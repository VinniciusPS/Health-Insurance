{
 "cells": [
  {
   "cell_type": "markdown",
   "id": "e4f856b7-165b-4247-baab-b72a02dbd18e",
   "metadata": {},
   "source": [
    "## Health Insurance Cross Sell Prediction"
   ]
  },
  {
   "cell_type": "code",
   "execution_count": 1,
   "id": "6d9baef7-cec0-455b-89c2-ab9ab9ef48bf",
   "metadata": {},
   "outputs": [],
   "source": [
    "from IPython.core.display import Image,display\n",
    "from IPython.core.display import HTML"
   ]
  },
  {
   "cell_type": "code",
   "execution_count": 2,
   "id": "552d17bd-cfbe-4cbd-ad32-334958926f88",
   "metadata": {},
   "outputs": [
    {
     "data": {
      "text/html": [
       "<img src=\"https://img.freepik.com/free-vector/vector-illustration-with-health-insurance-concept-big-clipboard-with-doctor-woman-healthcare_194782-1307.jpg\"/>"
      ],
      "text/plain": [
       "<IPython.core.display.Image object>"
      ]
     },
     "execution_count": 2,
     "metadata": {},
     "output_type": "execute_result"
    }
   ],
   "source": [
    "Image(url=\"https://img.freepik.com/free-vector/vector-illustration-with-health-insurance-concept-big-clipboard-with-doctor-woman-healthcare_194782-1307.jpg\")"
   ]
  },
  {
   "cell_type": "markdown",
   "id": "07144166-baf0-43ed-937c-f7416660382e",
   "metadata": {
    "tags": []
   },
   "source": [
    "#### Context\n",
    "\n",
    "Our client is an Insurance company that has provided Health Insurance to its customers now they need your help in building a model to predict whether the policyholders (customers) from past year will also be interested in Vehicle Insurance provided by the company.\n",
    "\n",
    "Building a model to predict whether a customer would be interested in Vehicle Insurance is extremely helpful for the company because it can then accordingly plan its communication strategy to reach out to those customers and optimise its business model and revenue.\n",
    "\n",
    "Now, in order to predict, whether the customer would be interested in Vehicle insurance, you have information about demographics (gender, age, region code type), Vehicles (Vehicle Age, Damage), Policy (Premium, sourcing channel) etc.\n",
    "\n",
    "More info: https://www.kaggle.com/anmolkumar/health-insurance-cross-sell-prediction \n",
    "\n",
    "#### Features\n",
    "\n",
    "* `Id`: unique customer identifier.\n",
    "* `Gender`: customer's gender.\n",
    "* `Age`: customer's age.\n",
    "* `Driving License`: 0, the client is not allowed to drive and 1, the client has to drive (CNH – National Driver's License)\n",
    "* `Region Code`: Customer's region code.\n",
    "* `Previously Insured`: 0, the customer does not have auto insurance and 1, the customer already has auto insurance.\n",
    "* `Vehicle Age`: vehicle age.\n",
    "* `Vehicle Damage`: 0, customer has never had his vehicle damaged in the past and 1, customer has had his vehicle damaged    in the past.\n",
    "* `Annual Premium`: amount the customer paid the company for annual health insurance.\n",
    "* `Policy sales channel`: anonymous code for the customer contact channel.\n",
    "* `Vintage`: number of days the customer has been associated with the company through the purchase of health insurance.\n",
    "* `Response`: 0, the customer is not interested and 1, the customer is interested.\n",
    "\n",
    "#### Solution Approach\n",
    "\n",
    "* <b>Ranked List</b>: The proposed solution will be the creation of a mailing list with customers most likely to purchase vehicle insurance. I'll be interested in looking at the cumulative gain curve to see if my classifier can deliver the best accuracy with the smallest possible sample. Thus, we will have as an output, a ranked list of the customers most likely (propensity score) to buy vehicle insurance. The smaller the sample size and the greater the cumulative gain, the greater the net gains for the company, as cold calling will be optimized with customers most likely to buy.\n",
    "\n",
    "    Ranking Metrics infos: http://mlwiki.org/index.php/Cumulative_Gain_Chart\n",
    "    \n",
    "* <b>Deploy approach</b>: The rank algorithm will be incorporated in a googlesheets via GoogleScript API, being able to be activated by the user through a trigger/button containing the activation script. The expected result of the script's action will be the sorting of a mailing list, where the user most likely to purchase will be the first on the list, the second most likely to be the second and so on n times, where n is the number of customers on the list. .\n",
    "    \n",
    "* <b>CRISP-DM Workflow</b>: This analytical process follows the CRISP-DM methodology, which considers a cyclical approach to problem solving. Therefore, the analytical process goes through all the phases of a data mining life cycle, focusing on the reduction of wasted resources, delivering value in a short period of time. In some cases it may take more than one cycle if adjustments are necessary (to improve metrics). \n",
    "\n",
    "    CRISP-DM infos: https://en.wikipedia.org/wiki/Cross-industry_standard_process_for_data_mining"
   ]
  },
  {
   "cell_type": "markdown",
   "id": "1e6b164d-d629-44ff-abac-048eedf55a9b",
   "metadata": {},
   "source": [
    "# 0.0. Imports"
   ]
  },
  {
   "cell_type": "code",
   "execution_count": 3,
   "id": "7ecb9765-ef78-4e1b-bab2-c3003148ceb9",
   "metadata": {},
   "outputs": [],
   "source": [
    "# Database and Operations\n",
    "import pandas as pd\n",
    "import numpy as np\n",
    "import math\n",
    "import random\n",
    "import psycopg2\n",
    "import json\n",
    "\n",
    "# Machine Learning\n",
    "from sklearn import preprocessing as pp\n",
    "from sklearn import model_selection as ms\n",
    "from sklearn import ensemble as en\n",
    "from sklearn import neighbors as nh\n",
    "from sklearn import linear_model as lm\n",
    "\n",
    "# Visual\n",
    "import seaborn as sns\n",
    "import matplotlib.pyplot as plt\n",
    "import scikitplot as skplt\n",
    "\n",
    "# Others\n",
    "import datetime \n",
    "import warnings\n",
    "import pickle \n",
    "import requests\n",
    "from flask import Flask, request, Response\n",
    "\n",
    "\n",
    "warnings.filterwarnings('ignore')"
   ]
  },
  {
   "cell_type": "markdown",
   "id": "a8d1e9f3-fcd4-4937-b59d-5278643bb567",
   "metadata": {},
   "source": [
    "## 0.1. Helper Functions"
   ]
  },
  {
   "cell_type": "code",
   "execution_count": 4,
   "id": "69107414-fdb5-4079-bf54-f564ef936d64",
   "metadata": {},
   "outputs": [],
   "source": [
    "# Auxiliary functions for better workflow\n",
    "def jupyter_settings():\n",
    "    %matplotlib inline\n",
    "    %pylab inline\n",
    "    \n",
    "    plt.style.use( 'bmh' )\n",
    "    plt.rcParams['figure.figsize'] = [25,12]\n",
    "    plt.rcParams['font.size'] = 24\n",
    "    \n",
    "    display( HTML( '<style>.container { width:100% !important; }</style>' ) )\n",
    "    pd.options.display.max_columns = None\n",
    "    pd.options.display.max_rows = None\n",
    "    pd.set_option( 'display.expand_frame_repr', False )\n",
    "    \n",
    "    sns.set()"
   ]
  },
  {
   "cell_type": "code",
   "execution_count": 17,
   "id": "c6b65571-6274-4889-8468-0da990005c3b",
   "metadata": {},
   "outputs": [
    {
     "name": "stdout",
     "output_type": "stream",
     "text": [
      "Populating the interactive namespace from numpy and matplotlib\n"
     ]
    },
    {
     "data": {
      "text/html": [
       "<style>.container { width:100% !important; }</style>"
      ],
      "text/plain": [
       "<IPython.core.display.HTML object>"
      ]
     },
     "metadata": {},
     "output_type": "display_data"
    }
   ],
   "source": [
    "jupyter_settings()"
   ]
  },
  {
   "cell_type": "markdown",
   "id": "69b6b1f2-2636-4ff4-8d49-80fca4474d86",
   "metadata": {},
   "source": [
    "## 0.2. Loading Dataset"
   ]
  },
  {
   "cell_type": "code",
   "execution_count": 4,
   "id": "ed3cdae5-f90b-4c77-bb8f-b05d94ea6e86",
   "metadata": {},
   "outputs": [],
   "source": [
    "# Pull data from AWS DB\n",
    "# Credentials\n",
    "\n",
    "# Host\n",
    "h = \"comunidade-ds-postgres.c50pcakiuwi3.us-east-1.rds.amazonaws.com\"\n",
    "\n",
    "# Port\n",
    "p = 5432\n",
    "\n",
    "# DataBase\n",
    "db = \"comunidadedsdb\"\n",
    "\n",
    "# User\n",
    "u = \"member\"\n",
    "\n",
    "# Password\n",
    "pw = \"cdspa\"\n",
    "\n",
    "# Connection\n",
    "\n",
    "conn = psycopg2.connect(host=h, port=p, database=db, user=u, password=pw)"
   ]
  },
  {
   "cell_type": "code",
   "execution_count": 5,
   "id": "458632b1-b425-41a3-938e-5ace845e50bd",
   "metadata": {},
   "outputs": [
    {
     "data": {
      "text/html": [
       "<div>\n",
       "<style scoped>\n",
       "    .dataframe tbody tr th:only-of-type {\n",
       "        vertical-align: middle;\n",
       "    }\n",
       "\n",
       "    .dataframe tbody tr th {\n",
       "        vertical-align: top;\n",
       "    }\n",
       "\n",
       "    .dataframe thead th {\n",
       "        text-align: right;\n",
       "    }\n",
       "</style>\n",
       "<table border=\"1\" class=\"dataframe\">\n",
       "  <thead>\n",
       "    <tr style=\"text-align: right;\">\n",
       "      <th></th>\n",
       "      <th>nspname</th>\n",
       "    </tr>\n",
       "  </thead>\n",
       "  <tbody>\n",
       "    <tr>\n",
       "      <th>0</th>\n",
       "      <td>pg_toast</td>\n",
       "    </tr>\n",
       "    <tr>\n",
       "      <th>1</th>\n",
       "      <td>pg_temp_1</td>\n",
       "    </tr>\n",
       "    <tr>\n",
       "      <th>2</th>\n",
       "      <td>pg_toast_temp_1</td>\n",
       "    </tr>\n",
       "    <tr>\n",
       "      <th>3</th>\n",
       "      <td>pg_catalog</td>\n",
       "    </tr>\n",
       "    <tr>\n",
       "      <th>4</th>\n",
       "      <td>information_schema</td>\n",
       "    </tr>\n",
       "    <tr>\n",
       "      <th>5</th>\n",
       "      <td>public</td>\n",
       "    </tr>\n",
       "    <tr>\n",
       "      <th>6</th>\n",
       "      <td>pa004</td>\n",
       "    </tr>\n",
       "    <tr>\n",
       "      <th>7</th>\n",
       "      <td>pg_temp_4</td>\n",
       "    </tr>\n",
       "    <tr>\n",
       "      <th>8</th>\n",
       "      <td>pg_toast_temp_4</td>\n",
       "    </tr>\n",
       "    <tr>\n",
       "      <th>9</th>\n",
       "      <td>pa005</td>\n",
       "    </tr>\n",
       "    <tr>\n",
       "      <th>10</th>\n",
       "      <td>pg_temp_9</td>\n",
       "    </tr>\n",
       "    <tr>\n",
       "      <th>11</th>\n",
       "      <td>pg_toast_temp_9</td>\n",
       "    </tr>\n",
       "  </tbody>\n",
       "</table>\n",
       "</div>"
      ],
      "text/plain": [
       "               nspname\n",
       "0             pg_toast\n",
       "1            pg_temp_1\n",
       "2      pg_toast_temp_1\n",
       "3           pg_catalog\n",
       "4   information_schema\n",
       "5               public\n",
       "6                pa004\n",
       "7            pg_temp_4\n",
       "8      pg_toast_temp_4\n",
       "9                pa005\n",
       "10           pg_temp_9\n",
       "11     pg_toast_temp_9"
      ]
     },
     "execution_count": 5,
     "metadata": {},
     "output_type": "execute_result"
    }
   ],
   "source": [
    "# List of schemas\n",
    "df1 = pd.read_sql(\"SELECT nspname FROM pg_catalog.pg_namespace;\",conn)\n",
    "df1"
   ]
  },
  {
   "cell_type": "code",
   "execution_count": 6,
   "id": "6bc96a11-2fab-483c-9e6d-1973b6b72465",
   "metadata": {},
   "outputs": [
    {
     "data": {
      "text/html": [
       "<div>\n",
       "<style scoped>\n",
       "    .dataframe tbody tr th:only-of-type {\n",
       "        vertical-align: middle;\n",
       "    }\n",
       "\n",
       "    .dataframe tbody tr th {\n",
       "        vertical-align: top;\n",
       "    }\n",
       "\n",
       "    .dataframe thead th {\n",
       "        text-align: right;\n",
       "    }\n",
       "</style>\n",
       "<table border=\"1\" class=\"dataframe\">\n",
       "  <thead>\n",
       "    <tr style=\"text-align: right;\">\n",
       "      <th></th>\n",
       "      <th>tablename</th>\n",
       "    </tr>\n",
       "  </thead>\n",
       "  <tbody>\n",
       "    <tr>\n",
       "      <th>0</th>\n",
       "      <td>users</td>\n",
       "    </tr>\n",
       "    <tr>\n",
       "      <th>1</th>\n",
       "      <td>vehicle</td>\n",
       "    </tr>\n",
       "    <tr>\n",
       "      <th>2</th>\n",
       "      <td>insurance</td>\n",
       "    </tr>\n",
       "  </tbody>\n",
       "</table>\n",
       "</div>"
      ],
      "text/plain": [
       "   tablename\n",
       "0      users\n",
       "1    vehicle\n",
       "2  insurance"
      ]
     },
     "execution_count": 6,
     "metadata": {},
     "output_type": "execute_result"
    }
   ],
   "source": [
    "# I'm only interested in schema pa004 tables\n",
    "df1 = pd.read_sql(\"SELECT tablename FROM pg_tables WHERE schemaname='pa004';\",conn)\n",
    "df1"
   ]
  },
  {
   "cell_type": "code",
   "execution_count": 7,
   "id": "6b517004-554c-4a0b-9d67-8ad047327a58",
   "metadata": {},
   "outputs": [
    {
     "data": {
      "text/html": [
       "<div>\n",
       "<style scoped>\n",
       "    .dataframe tbody tr th:only-of-type {\n",
       "        vertical-align: middle;\n",
       "    }\n",
       "\n",
       "    .dataframe tbody tr th {\n",
       "        vertical-align: top;\n",
       "    }\n",
       "\n",
       "    .dataframe thead th {\n",
       "        text-align: right;\n",
       "    }\n",
       "</style>\n",
       "<table border=\"1\" class=\"dataframe\">\n",
       "  <thead>\n",
       "    <tr style=\"text-align: right;\">\n",
       "      <th></th>\n",
       "      <th>id</th>\n",
       "      <th>gender</th>\n",
       "      <th>age</th>\n",
       "      <th>region_code</th>\n",
       "      <th>policy_sales_channel</th>\n",
       "    </tr>\n",
       "  </thead>\n",
       "  <tbody>\n",
       "    <tr>\n",
       "      <th>0</th>\n",
       "      <td>1</td>\n",
       "      <td>Male</td>\n",
       "      <td>44</td>\n",
       "      <td>28.0</td>\n",
       "      <td>26.0</td>\n",
       "    </tr>\n",
       "    <tr>\n",
       "      <th>1</th>\n",
       "      <td>2</td>\n",
       "      <td>Male</td>\n",
       "      <td>76</td>\n",
       "      <td>3.0</td>\n",
       "      <td>26.0</td>\n",
       "    </tr>\n",
       "    <tr>\n",
       "      <th>2</th>\n",
       "      <td>3</td>\n",
       "      <td>Male</td>\n",
       "      <td>47</td>\n",
       "      <td>28.0</td>\n",
       "      <td>26.0</td>\n",
       "    </tr>\n",
       "    <tr>\n",
       "      <th>3</th>\n",
       "      <td>4</td>\n",
       "      <td>Male</td>\n",
       "      <td>21</td>\n",
       "      <td>11.0</td>\n",
       "      <td>152.0</td>\n",
       "    </tr>\n",
       "    <tr>\n",
       "      <th>4</th>\n",
       "      <td>5</td>\n",
       "      <td>Female</td>\n",
       "      <td>29</td>\n",
       "      <td>41.0</td>\n",
       "      <td>152.0</td>\n",
       "    </tr>\n",
       "    <tr>\n",
       "      <th>5</th>\n",
       "      <td>6</td>\n",
       "      <td>Female</td>\n",
       "      <td>24</td>\n",
       "      <td>33.0</td>\n",
       "      <td>160.0</td>\n",
       "    </tr>\n",
       "    <tr>\n",
       "      <th>6</th>\n",
       "      <td>7</td>\n",
       "      <td>Male</td>\n",
       "      <td>23</td>\n",
       "      <td>11.0</td>\n",
       "      <td>152.0</td>\n",
       "    </tr>\n",
       "    <tr>\n",
       "      <th>7</th>\n",
       "      <td>8</td>\n",
       "      <td>Female</td>\n",
       "      <td>56</td>\n",
       "      <td>28.0</td>\n",
       "      <td>26.0</td>\n",
       "    </tr>\n",
       "    <tr>\n",
       "      <th>8</th>\n",
       "      <td>9</td>\n",
       "      <td>Female</td>\n",
       "      <td>24</td>\n",
       "      <td>3.0</td>\n",
       "      <td>152.0</td>\n",
       "    </tr>\n",
       "    <tr>\n",
       "      <th>9</th>\n",
       "      <td>10</td>\n",
       "      <td>Female</td>\n",
       "      <td>32</td>\n",
       "      <td>6.0</td>\n",
       "      <td>152.0</td>\n",
       "    </tr>\n",
       "  </tbody>\n",
       "</table>\n",
       "</div>"
      ],
      "text/plain": [
       "   id  gender  age  region_code  policy_sales_channel\n",
       "0   1    Male   44         28.0                  26.0\n",
       "1   2    Male   76          3.0                  26.0\n",
       "2   3    Male   47         28.0                  26.0\n",
       "3   4    Male   21         11.0                 152.0\n",
       "4   5  Female   29         41.0                 152.0\n",
       "5   6  Female   24         33.0                 160.0\n",
       "6   7    Male   23         11.0                 152.0\n",
       "7   8  Female   56         28.0                  26.0\n",
       "8   9  Female   24          3.0                 152.0\n",
       "9  10  Female   32          6.0                 152.0"
      ]
     },
     "execution_count": 7,
     "metadata": {},
     "output_type": "execute_result"
    }
   ],
   "source": [
    "# Checking users table \n",
    "users = pd.read_sql(\"SELECT * FROM pa004.users LIMIT 10;\",conn)\n",
    "users"
   ]
  },
  {
   "cell_type": "code",
   "execution_count": 8,
   "id": "5cee854c-c210-467a-a681-be7b0b358b8e",
   "metadata": {},
   "outputs": [
    {
     "data": {
      "text/html": [
       "<div>\n",
       "<style scoped>\n",
       "    .dataframe tbody tr th:only-of-type {\n",
       "        vertical-align: middle;\n",
       "    }\n",
       "\n",
       "    .dataframe tbody tr th {\n",
       "        vertical-align: top;\n",
       "    }\n",
       "\n",
       "    .dataframe thead th {\n",
       "        text-align: right;\n",
       "    }\n",
       "</style>\n",
       "<table border=\"1\" class=\"dataframe\">\n",
       "  <thead>\n",
       "    <tr style=\"text-align: right;\">\n",
       "      <th></th>\n",
       "      <th>id</th>\n",
       "      <th>driving_license</th>\n",
       "      <th>vehicle_age</th>\n",
       "      <th>vehicle_damage</th>\n",
       "    </tr>\n",
       "  </thead>\n",
       "  <tbody>\n",
       "    <tr>\n",
       "      <th>0</th>\n",
       "      <td>1</td>\n",
       "      <td>1</td>\n",
       "      <td>&gt; 2 Years</td>\n",
       "      <td>Yes</td>\n",
       "    </tr>\n",
       "    <tr>\n",
       "      <th>1</th>\n",
       "      <td>2</td>\n",
       "      <td>1</td>\n",
       "      <td>1-2 Year</td>\n",
       "      <td>No</td>\n",
       "    </tr>\n",
       "    <tr>\n",
       "      <th>2</th>\n",
       "      <td>3</td>\n",
       "      <td>1</td>\n",
       "      <td>&gt; 2 Years</td>\n",
       "      <td>Yes</td>\n",
       "    </tr>\n",
       "    <tr>\n",
       "      <th>3</th>\n",
       "      <td>4</td>\n",
       "      <td>1</td>\n",
       "      <td>&lt; 1 Year</td>\n",
       "      <td>No</td>\n",
       "    </tr>\n",
       "    <tr>\n",
       "      <th>4</th>\n",
       "      <td>5</td>\n",
       "      <td>1</td>\n",
       "      <td>&lt; 1 Year</td>\n",
       "      <td>No</td>\n",
       "    </tr>\n",
       "    <tr>\n",
       "      <th>5</th>\n",
       "      <td>6</td>\n",
       "      <td>1</td>\n",
       "      <td>&lt; 1 Year</td>\n",
       "      <td>Yes</td>\n",
       "    </tr>\n",
       "    <tr>\n",
       "      <th>6</th>\n",
       "      <td>7</td>\n",
       "      <td>1</td>\n",
       "      <td>&lt; 1 Year</td>\n",
       "      <td>Yes</td>\n",
       "    </tr>\n",
       "    <tr>\n",
       "      <th>7</th>\n",
       "      <td>8</td>\n",
       "      <td>1</td>\n",
       "      <td>1-2 Year</td>\n",
       "      <td>Yes</td>\n",
       "    </tr>\n",
       "    <tr>\n",
       "      <th>8</th>\n",
       "      <td>9</td>\n",
       "      <td>1</td>\n",
       "      <td>&lt; 1 Year</td>\n",
       "      <td>No</td>\n",
       "    </tr>\n",
       "    <tr>\n",
       "      <th>9</th>\n",
       "      <td>10</td>\n",
       "      <td>1</td>\n",
       "      <td>&lt; 1 Year</td>\n",
       "      <td>No</td>\n",
       "    </tr>\n",
       "  </tbody>\n",
       "</table>\n",
       "</div>"
      ],
      "text/plain": [
       "   id  driving_license vehicle_age vehicle_damage\n",
       "0   1                1   > 2 Years            Yes\n",
       "1   2                1    1-2 Year             No\n",
       "2   3                1   > 2 Years            Yes\n",
       "3   4                1    < 1 Year             No\n",
       "4   5                1    < 1 Year             No\n",
       "5   6                1    < 1 Year            Yes\n",
       "6   7                1    < 1 Year            Yes\n",
       "7   8                1    1-2 Year            Yes\n",
       "8   9                1    < 1 Year             No\n",
       "9  10                1    < 1 Year             No"
      ]
     },
     "execution_count": 8,
     "metadata": {},
     "output_type": "execute_result"
    }
   ],
   "source": [
    "# Checking vehicle table\n",
    "vehicle = pd.read_sql(\"SELECT * FROM pa004.vehicle LIMIT 10;\",conn)\n",
    "vehicle"
   ]
  },
  {
   "cell_type": "code",
   "execution_count": 9,
   "id": "6a0e86c1-07f9-4746-934a-38a56c74be3e",
   "metadata": {},
   "outputs": [
    {
     "data": {
      "text/html": [
       "<div>\n",
       "<style scoped>\n",
       "    .dataframe tbody tr th:only-of-type {\n",
       "        vertical-align: middle;\n",
       "    }\n",
       "\n",
       "    .dataframe tbody tr th {\n",
       "        vertical-align: top;\n",
       "    }\n",
       "\n",
       "    .dataframe thead th {\n",
       "        text-align: right;\n",
       "    }\n",
       "</style>\n",
       "<table border=\"1\" class=\"dataframe\">\n",
       "  <thead>\n",
       "    <tr style=\"text-align: right;\">\n",
       "      <th></th>\n",
       "      <th>id</th>\n",
       "      <th>previously_insured</th>\n",
       "      <th>annual_premium</th>\n",
       "      <th>vintage</th>\n",
       "      <th>response</th>\n",
       "    </tr>\n",
       "  </thead>\n",
       "  <tbody>\n",
       "    <tr>\n",
       "      <th>0</th>\n",
       "      <td>1</td>\n",
       "      <td>0</td>\n",
       "      <td>40454.0</td>\n",
       "      <td>217</td>\n",
       "      <td>1</td>\n",
       "    </tr>\n",
       "    <tr>\n",
       "      <th>1</th>\n",
       "      <td>2</td>\n",
       "      <td>0</td>\n",
       "      <td>33536.0</td>\n",
       "      <td>183</td>\n",
       "      <td>0</td>\n",
       "    </tr>\n",
       "    <tr>\n",
       "      <th>2</th>\n",
       "      <td>3</td>\n",
       "      <td>0</td>\n",
       "      <td>38294.0</td>\n",
       "      <td>27</td>\n",
       "      <td>1</td>\n",
       "    </tr>\n",
       "    <tr>\n",
       "      <th>3</th>\n",
       "      <td>4</td>\n",
       "      <td>1</td>\n",
       "      <td>28619.0</td>\n",
       "      <td>203</td>\n",
       "      <td>0</td>\n",
       "    </tr>\n",
       "    <tr>\n",
       "      <th>4</th>\n",
       "      <td>5</td>\n",
       "      <td>1</td>\n",
       "      <td>27496.0</td>\n",
       "      <td>39</td>\n",
       "      <td>0</td>\n",
       "    </tr>\n",
       "    <tr>\n",
       "      <th>5</th>\n",
       "      <td>6</td>\n",
       "      <td>0</td>\n",
       "      <td>2630.0</td>\n",
       "      <td>176</td>\n",
       "      <td>0</td>\n",
       "    </tr>\n",
       "    <tr>\n",
       "      <th>6</th>\n",
       "      <td>7</td>\n",
       "      <td>0</td>\n",
       "      <td>23367.0</td>\n",
       "      <td>249</td>\n",
       "      <td>0</td>\n",
       "    </tr>\n",
       "    <tr>\n",
       "      <th>7</th>\n",
       "      <td>8</td>\n",
       "      <td>0</td>\n",
       "      <td>32031.0</td>\n",
       "      <td>72</td>\n",
       "      <td>1</td>\n",
       "    </tr>\n",
       "    <tr>\n",
       "      <th>8</th>\n",
       "      <td>9</td>\n",
       "      <td>1</td>\n",
       "      <td>27619.0</td>\n",
       "      <td>28</td>\n",
       "      <td>0</td>\n",
       "    </tr>\n",
       "    <tr>\n",
       "      <th>9</th>\n",
       "      <td>10</td>\n",
       "      <td>1</td>\n",
       "      <td>28771.0</td>\n",
       "      <td>80</td>\n",
       "      <td>0</td>\n",
       "    </tr>\n",
       "  </tbody>\n",
       "</table>\n",
       "</div>"
      ],
      "text/plain": [
       "   id  previously_insured  annual_premium  vintage  response\n",
       "0   1                   0         40454.0      217         1\n",
       "1   2                   0         33536.0      183         0\n",
       "2   3                   0         38294.0       27         1\n",
       "3   4                   1         28619.0      203         0\n",
       "4   5                   1         27496.0       39         0\n",
       "5   6                   0          2630.0      176         0\n",
       "6   7                   0         23367.0      249         0\n",
       "7   8                   0         32031.0       72         1\n",
       "8   9                   1         27619.0       28         0\n",
       "9  10                   1         28771.0       80         0"
      ]
     },
     "execution_count": 9,
     "metadata": {},
     "output_type": "execute_result"
    }
   ],
   "source": [
    "# Checking insurance table\n",
    "insurance = pd.read_sql(\"SELECT * FROM pa004.insurance LIMIT 10;\",conn)\n",
    "insurance"
   ]
  },
  {
   "cell_type": "markdown",
   "id": "bcf8b1f5-7f0a-4f5e-aa7f-5a862867039e",
   "metadata": {},
   "source": [
    "* The tables share the same id\n",
    "* We can do a left join on id and save all data in a single table"
   ]
  },
  {
   "cell_type": "code",
   "execution_count": 10,
   "id": "837356f8-a46f-4609-a013-d295b1a65cc1",
   "metadata": {},
   "outputs": [
    {
     "data": {
      "text/html": [
       "<div>\n",
       "<style scoped>\n",
       "    .dataframe tbody tr th:only-of-type {\n",
       "        vertical-align: middle;\n",
       "    }\n",
       "\n",
       "    .dataframe tbody tr th {\n",
       "        vertical-align: top;\n",
       "    }\n",
       "\n",
       "    .dataframe thead th {\n",
       "        text-align: right;\n",
       "    }\n",
       "</style>\n",
       "<table border=\"1\" class=\"dataframe\">\n",
       "  <thead>\n",
       "    <tr style=\"text-align: right;\">\n",
       "      <th></th>\n",
       "      <th>id</th>\n",
       "      <th>gender</th>\n",
       "      <th>age</th>\n",
       "      <th>region_code</th>\n",
       "      <th>policy_sales_channel</th>\n",
       "      <th>id</th>\n",
       "      <th>driving_license</th>\n",
       "      <th>vehicle_age</th>\n",
       "      <th>vehicle_damage</th>\n",
       "      <th>id</th>\n",
       "      <th>previously_insured</th>\n",
       "      <th>annual_premium</th>\n",
       "      <th>vintage</th>\n",
       "      <th>response</th>\n",
       "    </tr>\n",
       "  </thead>\n",
       "  <tbody>\n",
       "    <tr>\n",
       "      <th>0</th>\n",
       "      <td>7</td>\n",
       "      <td>Male</td>\n",
       "      <td>23</td>\n",
       "      <td>11.0</td>\n",
       "      <td>152.0</td>\n",
       "      <td>7</td>\n",
       "      <td>1</td>\n",
       "      <td>&lt; 1 Year</td>\n",
       "      <td>Yes</td>\n",
       "      <td>7</td>\n",
       "      <td>0</td>\n",
       "      <td>23367.0</td>\n",
       "      <td>249</td>\n",
       "      <td>0</td>\n",
       "    </tr>\n",
       "    <tr>\n",
       "      <th>1</th>\n",
       "      <td>13</td>\n",
       "      <td>Female</td>\n",
       "      <td>41</td>\n",
       "      <td>15.0</td>\n",
       "      <td>14.0</td>\n",
       "      <td>13</td>\n",
       "      <td>1</td>\n",
       "      <td>1-2 Year</td>\n",
       "      <td>No</td>\n",
       "      <td>13</td>\n",
       "      <td>1</td>\n",
       "      <td>31409.0</td>\n",
       "      <td>221</td>\n",
       "      <td>0</td>\n",
       "    </tr>\n",
       "    <tr>\n",
       "      <th>2</th>\n",
       "      <td>18</td>\n",
       "      <td>Female</td>\n",
       "      <td>25</td>\n",
       "      <td>35.0</td>\n",
       "      <td>152.0</td>\n",
       "      <td>18</td>\n",
       "      <td>1</td>\n",
       "      <td>&lt; 1 Year</td>\n",
       "      <td>No</td>\n",
       "      <td>18</td>\n",
       "      <td>1</td>\n",
       "      <td>46622.0</td>\n",
       "      <td>299</td>\n",
       "      <td>0</td>\n",
       "    </tr>\n",
       "    <tr>\n",
       "      <th>3</th>\n",
       "      <td>31</td>\n",
       "      <td>Female</td>\n",
       "      <td>26</td>\n",
       "      <td>8.0</td>\n",
       "      <td>160.0</td>\n",
       "      <td>31</td>\n",
       "      <td>1</td>\n",
       "      <td>&lt; 1 Year</td>\n",
       "      <td>No</td>\n",
       "      <td>31</td>\n",
       "      <td>0</td>\n",
       "      <td>2630.0</td>\n",
       "      <td>136</td>\n",
       "      <td>0</td>\n",
       "    </tr>\n",
       "    <tr>\n",
       "      <th>4</th>\n",
       "      <td>39</td>\n",
       "      <td>Male</td>\n",
       "      <td>45</td>\n",
       "      <td>8.0</td>\n",
       "      <td>124.0</td>\n",
       "      <td>39</td>\n",
       "      <td>1</td>\n",
       "      <td>1-2 Year</td>\n",
       "      <td>Yes</td>\n",
       "      <td>39</td>\n",
       "      <td>0</td>\n",
       "      <td>42297.0</td>\n",
       "      <td>264</td>\n",
       "      <td>0</td>\n",
       "    </tr>\n",
       "  </tbody>\n",
       "</table>\n",
       "</div>"
      ],
      "text/plain": [
       "   id  gender  age  region_code  policy_sales_channel  id  driving_license  \\\n",
       "0   7    Male   23         11.0                 152.0   7                1   \n",
       "1  13  Female   41         15.0                  14.0  13                1   \n",
       "2  18  Female   25         35.0                 152.0  18                1   \n",
       "3  31  Female   26          8.0                 160.0  31                1   \n",
       "4  39    Male   45          8.0                 124.0  39                1   \n",
       "\n",
       "  vehicle_age vehicle_damage  id  previously_insured  annual_premium  vintage  \\\n",
       "0    < 1 Year            Yes   7                   0         23367.0      249   \n",
       "1    1-2 Year             No  13                   1         31409.0      221   \n",
       "2    < 1 Year             No  18                   1         46622.0      299   \n",
       "3    < 1 Year             No  31                   0          2630.0      136   \n",
       "4    1-2 Year            Yes  39                   0         42297.0      264   \n",
       "\n",
       "   response  \n",
       "0         0  \n",
       "1         0  \n",
       "2         0  \n",
       "3         0  \n",
       "4         0  "
      ]
     },
     "execution_count": 10,
     "metadata": {},
     "output_type": "execute_result"
    }
   ],
   "source": [
    "# left join on id\n",
    "query_tables = \"\"\"\n",
    "    SELECT * \n",
    "    FROM pa004.users u LEFT JOIN pa004.vehicle v ON (u.id = v.id)\n",
    "                       LEFT JOIN pa004.insurance i ON (u.id = i.id)\n",
    "\"\"\"\n",
    "raw = pd.read_sql(query_tables, conn)\n",
    "raw.head()"
   ]
  },
  {
   "cell_type": "code",
   "execution_count": 11,
   "id": "eb9e7969-3efb-44e0-99d9-955d619b63f0",
   "metadata": {},
   "outputs": [
    {
     "data": {
      "text/html": [
       "<div>\n",
       "<style scoped>\n",
       "    .dataframe tbody tr th:only-of-type {\n",
       "        vertical-align: middle;\n",
       "    }\n",
       "\n",
       "    .dataframe tbody tr th {\n",
       "        vertical-align: top;\n",
       "    }\n",
       "\n",
       "    .dataframe thead th {\n",
       "        text-align: right;\n",
       "    }\n",
       "</style>\n",
       "<table border=\"1\" class=\"dataframe\">\n",
       "  <thead>\n",
       "    <tr style=\"text-align: right;\">\n",
       "      <th></th>\n",
       "      <th>id</th>\n",
       "      <th>gender</th>\n",
       "      <th>age</th>\n",
       "      <th>region_code</th>\n",
       "      <th>policy_sales_channel</th>\n",
       "      <th>driving_license</th>\n",
       "      <th>vehicle_age</th>\n",
       "      <th>vehicle_damage</th>\n",
       "      <th>previously_insured</th>\n",
       "      <th>annual_premium</th>\n",
       "      <th>vintage</th>\n",
       "      <th>response</th>\n",
       "    </tr>\n",
       "  </thead>\n",
       "  <tbody>\n",
       "    <tr>\n",
       "      <th>0</th>\n",
       "      <td>7</td>\n",
       "      <td>Male</td>\n",
       "      <td>23</td>\n",
       "      <td>11.0</td>\n",
       "      <td>152.0</td>\n",
       "      <td>1</td>\n",
       "      <td>&lt; 1 Year</td>\n",
       "      <td>Yes</td>\n",
       "      <td>0</td>\n",
       "      <td>23367.0</td>\n",
       "      <td>249</td>\n",
       "      <td>0</td>\n",
       "    </tr>\n",
       "    <tr>\n",
       "      <th>1</th>\n",
       "      <td>13</td>\n",
       "      <td>Female</td>\n",
       "      <td>41</td>\n",
       "      <td>15.0</td>\n",
       "      <td>14.0</td>\n",
       "      <td>1</td>\n",
       "      <td>1-2 Year</td>\n",
       "      <td>No</td>\n",
       "      <td>1</td>\n",
       "      <td>31409.0</td>\n",
       "      <td>221</td>\n",
       "      <td>0</td>\n",
       "    </tr>\n",
       "    <tr>\n",
       "      <th>2</th>\n",
       "      <td>18</td>\n",
       "      <td>Female</td>\n",
       "      <td>25</td>\n",
       "      <td>35.0</td>\n",
       "      <td>152.0</td>\n",
       "      <td>1</td>\n",
       "      <td>&lt; 1 Year</td>\n",
       "      <td>No</td>\n",
       "      <td>1</td>\n",
       "      <td>46622.0</td>\n",
       "      <td>299</td>\n",
       "      <td>0</td>\n",
       "    </tr>\n",
       "    <tr>\n",
       "      <th>3</th>\n",
       "      <td>31</td>\n",
       "      <td>Female</td>\n",
       "      <td>26</td>\n",
       "      <td>8.0</td>\n",
       "      <td>160.0</td>\n",
       "      <td>1</td>\n",
       "      <td>&lt; 1 Year</td>\n",
       "      <td>No</td>\n",
       "      <td>0</td>\n",
       "      <td>2630.0</td>\n",
       "      <td>136</td>\n",
       "      <td>0</td>\n",
       "    </tr>\n",
       "    <tr>\n",
       "      <th>4</th>\n",
       "      <td>39</td>\n",
       "      <td>Male</td>\n",
       "      <td>45</td>\n",
       "      <td>8.0</td>\n",
       "      <td>124.0</td>\n",
       "      <td>1</td>\n",
       "      <td>1-2 Year</td>\n",
       "      <td>Yes</td>\n",
       "      <td>0</td>\n",
       "      <td>42297.0</td>\n",
       "      <td>264</td>\n",
       "      <td>0</td>\n",
       "    </tr>\n",
       "  </tbody>\n",
       "</table>\n",
       "</div>"
      ],
      "text/plain": [
       "   id  gender  age  region_code  policy_sales_channel  driving_license  \\\n",
       "0   7    Male   23         11.0                 152.0                1   \n",
       "1  13  Female   41         15.0                  14.0                1   \n",
       "2  18  Female   25         35.0                 152.0                1   \n",
       "3  31  Female   26          8.0                 160.0                1   \n",
       "4  39    Male   45          8.0                 124.0                1   \n",
       "\n",
       "  vehicle_age vehicle_damage  previously_insured  annual_premium  vintage  \\\n",
       "0    < 1 Year            Yes                   0         23367.0      249   \n",
       "1    1-2 Year             No                   1         31409.0      221   \n",
       "2    < 1 Year             No                   1         46622.0      299   \n",
       "3    < 1 Year             No                   0          2630.0      136   \n",
       "4    1-2 Year            Yes                   0         42297.0      264   \n",
       "\n",
       "   response  \n",
       "0         0  \n",
       "1         0  \n",
       "2         0  \n",
       "3         0  \n",
       "4         0  "
      ]
     },
     "execution_count": 11,
     "metadata": {},
     "output_type": "execute_result"
    }
   ],
   "source": [
    "# Rename columns 5 and 9 to be the only ones id's deleted in drop\n",
    "new_columns = ['id', 'gender', 'age', 'region_code', 'policy_sales_channel', 'id_2',\n",
    "               'driving_license', 'vehicle_age', 'vehicle_damage', 'id_3',\n",
    "               'previously_insured', 'annual_premium', 'vintage', 'response']\n",
    "\n",
    "raw.columns = new_columns\n",
    "\n",
    "# Drop excess ids\n",
    "raw = raw.drop(columns=raw.columns[[5,9]], axis=1)\n",
    "raw.head()"
   ]
  },
  {
   "cell_type": "markdown",
   "id": "cc5fbaa1-9ad7-4b12-9e8f-cf109f3b5e29",
   "metadata": {},
   "source": [
    "# 1.0. Data Description"
   ]
  },
  {
   "cell_type": "code",
   "execution_count": 12,
   "id": "f5b57c5c-5523-4f71-87e6-c8bb2308be83",
   "metadata": {},
   "outputs": [],
   "source": [
    "# Checkpoint\n",
    "df1 = raw.copy()"
   ]
  },
  {
   "cell_type": "markdown",
   "id": "35680c6a-aeb2-439f-a48b-6bfc6987d687",
   "metadata": {},
   "source": [
    "## 1.1. Data Dimension"
   ]
  },
  {
   "cell_type": "code",
   "execution_count": 13,
   "id": "2243e529-4fb1-4197-b4da-afc9e0f29463",
   "metadata": {},
   "outputs": [
    {
     "name": "stdout",
     "output_type": "stream",
     "text": [
      "number of rows: 381109 , number of cols: 12\n"
     ]
    }
   ],
   "source": [
    "# Number of rows and columns\n",
    "print('number of rows: {r} , number of cols: {c}'.format(r=df1.shape[0], c=df1.shape[1]))"
   ]
  },
  {
   "cell_type": "markdown",
   "id": "42c70295-1b40-45a5-a679-5690429b39dc",
   "metadata": {},
   "source": [
    "## 1.2. Data Types"
   ]
  },
  {
   "cell_type": "code",
   "execution_count": 14,
   "id": "f309529d-c224-4d89-ac71-95f4c01b3baa",
   "metadata": {},
   "outputs": [
    {
     "data": {
      "text/plain": [
       "['id',\n",
       " 'gender',\n",
       " 'age',\n",
       " 'region_code',\n",
       " 'policy_sales_channel',\n",
       " 'driving_license',\n",
       " 'vehicle_age',\n",
       " 'vehicle_damage',\n",
       " 'previously_insured',\n",
       " 'annual_premium',\n",
       " 'vintage',\n",
       " 'response']"
      ]
     },
     "execution_count": 14,
     "metadata": {},
     "output_type": "execute_result"
    }
   ],
   "source": [
    "# Change columns names\n",
    "new_cols = [x.lower() for x in df1.columns]\n",
    "new_cols"
   ]
  },
  {
   "cell_type": "code",
   "execution_count": 15,
   "id": "d70c1378-abac-40ee-abd8-3228dde4c93c",
   "metadata": {},
   "outputs": [
    {
     "data": {
      "text/plain": [
       "id                        int64\n",
       "gender                   object\n",
       "age                       int64\n",
       "region_code             float64\n",
       "policy_sales_channel    float64\n",
       "driving_license           int64\n",
       "vehicle_age              object\n",
       "vehicle_damage           object\n",
       "previously_insured        int64\n",
       "annual_premium          float64\n",
       "vintage                   int64\n",
       "response                  int64\n",
       "dtype: object"
      ]
     },
     "execution_count": 15,
     "metadata": {},
     "output_type": "execute_result"
    }
   ],
   "source": [
    "# Data types\n",
    "df1.dtypes"
   ]
  },
  {
   "cell_type": "markdown",
   "id": "1c1b3de4-d94f-4e24-9942-f82fb8484a97",
   "metadata": {},
   "source": [
    "* no change of type will be required so far"
   ]
  },
  {
   "cell_type": "markdown",
   "id": "f5fa6f2b-0b98-437b-8ebd-c91f8ef49a55",
   "metadata": {},
   "source": [
    "## 1.3. Check NA"
   ]
  },
  {
   "cell_type": "code",
   "execution_count": 16,
   "id": "900bbf0f-b89d-402d-84ed-99eb7a3a6b6e",
   "metadata": {},
   "outputs": [
    {
     "data": {
      "text/plain": [
       "id                      0\n",
       "gender                  0\n",
       "age                     0\n",
       "region_code             0\n",
       "policy_sales_channel    0\n",
       "driving_license         0\n",
       "vehicle_age             0\n",
       "vehicle_damage          0\n",
       "previously_insured      0\n",
       "annual_premium          0\n",
       "vintage                 0\n",
       "response                0\n",
       "dtype: int64"
      ]
     },
     "execution_count": 16,
     "metadata": {},
     "output_type": "execute_result"
    }
   ],
   "source": [
    "# Checking NA's\n",
    "df1.isna().sum()"
   ]
  },
  {
   "cell_type": "markdown",
   "id": "a53286a8-b4c6-432e-9b8a-c076385cc3ad",
   "metadata": {},
   "source": [
    "* there is no empty data"
   ]
  },
  {
   "cell_type": "markdown",
   "id": "ee923c60-c771-41e6-b001-76cb6b1d1753",
   "metadata": {},
   "source": [
    "## 1.4. Data Descriptive"
   ]
  },
  {
   "cell_type": "code",
   "execution_count": 17,
   "id": "3a9332c0-ce94-4b90-bf46-8940479ca2a9",
   "metadata": {},
   "outputs": [],
   "source": [
    "# let's separate the data between numeric and categorical\n",
    "num_vars = df1.select_dtypes(include=['int64','float64'])\n",
    "cat_vars = df1.select_dtypes(exclude=['int64','float64', 'datetime64[ns]'])"
   ]
  },
  {
   "cell_type": "code",
   "execution_count": 18,
   "id": "ecca0352-9599-46cd-b544-fc5a95b0b661",
   "metadata": {},
   "outputs": [
    {
     "data": {
      "text/html": [
       "<div>\n",
       "<style scoped>\n",
       "    .dataframe tbody tr th:only-of-type {\n",
       "        vertical-align: middle;\n",
       "    }\n",
       "\n",
       "    .dataframe tbody tr th {\n",
       "        vertical-align: top;\n",
       "    }\n",
       "\n",
       "    .dataframe thead th {\n",
       "        text-align: right;\n",
       "    }\n",
       "</style>\n",
       "<table border=\"1\" class=\"dataframe\">\n",
       "  <thead>\n",
       "    <tr style=\"text-align: right;\">\n",
       "      <th></th>\n",
       "      <th>id</th>\n",
       "      <th>age</th>\n",
       "      <th>region_code</th>\n",
       "      <th>policy_sales_channel</th>\n",
       "      <th>driving_license</th>\n",
       "      <th>previously_insured</th>\n",
       "      <th>annual_premium</th>\n",
       "      <th>vintage</th>\n",
       "      <th>response</th>\n",
       "    </tr>\n",
       "  </thead>\n",
       "  <tbody>\n",
       "    <tr>\n",
       "      <th>0</th>\n",
       "      <td>7</td>\n",
       "      <td>23</td>\n",
       "      <td>11.0</td>\n",
       "      <td>152.0</td>\n",
       "      <td>1</td>\n",
       "      <td>0</td>\n",
       "      <td>23367.0</td>\n",
       "      <td>249</td>\n",
       "      <td>0</td>\n",
       "    </tr>\n",
       "    <tr>\n",
       "      <th>1</th>\n",
       "      <td>13</td>\n",
       "      <td>41</td>\n",
       "      <td>15.0</td>\n",
       "      <td>14.0</td>\n",
       "      <td>1</td>\n",
       "      <td>1</td>\n",
       "      <td>31409.0</td>\n",
       "      <td>221</td>\n",
       "      <td>0</td>\n",
       "    </tr>\n",
       "    <tr>\n",
       "      <th>2</th>\n",
       "      <td>18</td>\n",
       "      <td>25</td>\n",
       "      <td>35.0</td>\n",
       "      <td>152.0</td>\n",
       "      <td>1</td>\n",
       "      <td>1</td>\n",
       "      <td>46622.0</td>\n",
       "      <td>299</td>\n",
       "      <td>0</td>\n",
       "    </tr>\n",
       "    <tr>\n",
       "      <th>3</th>\n",
       "      <td>31</td>\n",
       "      <td>26</td>\n",
       "      <td>8.0</td>\n",
       "      <td>160.0</td>\n",
       "      <td>1</td>\n",
       "      <td>0</td>\n",
       "      <td>2630.0</td>\n",
       "      <td>136</td>\n",
       "      <td>0</td>\n",
       "    </tr>\n",
       "    <tr>\n",
       "      <th>4</th>\n",
       "      <td>39</td>\n",
       "      <td>45</td>\n",
       "      <td>8.0</td>\n",
       "      <td>124.0</td>\n",
       "      <td>1</td>\n",
       "      <td>0</td>\n",
       "      <td>42297.0</td>\n",
       "      <td>264</td>\n",
       "      <td>0</td>\n",
       "    </tr>\n",
       "  </tbody>\n",
       "</table>\n",
       "</div>"
      ],
      "text/plain": [
       "   id  age  region_code  policy_sales_channel  driving_license  \\\n",
       "0   7   23         11.0                 152.0                1   \n",
       "1  13   41         15.0                  14.0                1   \n",
       "2  18   25         35.0                 152.0                1   \n",
       "3  31   26          8.0                 160.0                1   \n",
       "4  39   45          8.0                 124.0                1   \n",
       "\n",
       "   previously_insured  annual_premium  vintage  response  \n",
       "0                   0         23367.0      249         0  \n",
       "1                   1         31409.0      221         0  \n",
       "2                   1         46622.0      299         0  \n",
       "3                   0          2630.0      136         0  \n",
       "4                   0         42297.0      264         0  "
      ]
     },
     "execution_count": 18,
     "metadata": {},
     "output_type": "execute_result"
    }
   ],
   "source": [
    "# num_vars quick view\n",
    "num_vars.head()"
   ]
  },
  {
   "cell_type": "code",
   "execution_count": 19,
   "id": "684f3448-206b-4af0-b917-7d5bfa357380",
   "metadata": {},
   "outputs": [
    {
     "data": {
      "text/html": [
       "<div>\n",
       "<style scoped>\n",
       "    .dataframe tbody tr th:only-of-type {\n",
       "        vertical-align: middle;\n",
       "    }\n",
       "\n",
       "    .dataframe tbody tr th {\n",
       "        vertical-align: top;\n",
       "    }\n",
       "\n",
       "    .dataframe thead th {\n",
       "        text-align: right;\n",
       "    }\n",
       "</style>\n",
       "<table border=\"1\" class=\"dataframe\">\n",
       "  <thead>\n",
       "    <tr style=\"text-align: right;\">\n",
       "      <th></th>\n",
       "      <th>gender</th>\n",
       "      <th>vehicle_age</th>\n",
       "      <th>vehicle_damage</th>\n",
       "    </tr>\n",
       "  </thead>\n",
       "  <tbody>\n",
       "    <tr>\n",
       "      <th>0</th>\n",
       "      <td>Male</td>\n",
       "      <td>&lt; 1 Year</td>\n",
       "      <td>Yes</td>\n",
       "    </tr>\n",
       "    <tr>\n",
       "      <th>1</th>\n",
       "      <td>Female</td>\n",
       "      <td>1-2 Year</td>\n",
       "      <td>No</td>\n",
       "    </tr>\n",
       "    <tr>\n",
       "      <th>2</th>\n",
       "      <td>Female</td>\n",
       "      <td>&lt; 1 Year</td>\n",
       "      <td>No</td>\n",
       "    </tr>\n",
       "    <tr>\n",
       "      <th>3</th>\n",
       "      <td>Female</td>\n",
       "      <td>&lt; 1 Year</td>\n",
       "      <td>No</td>\n",
       "    </tr>\n",
       "    <tr>\n",
       "      <th>4</th>\n",
       "      <td>Male</td>\n",
       "      <td>1-2 Year</td>\n",
       "      <td>Yes</td>\n",
       "    </tr>\n",
       "  </tbody>\n",
       "</table>\n",
       "</div>"
      ],
      "text/plain": [
       "   gender vehicle_age vehicle_damage\n",
       "0    Male    < 1 Year            Yes\n",
       "1  Female    1-2 Year             No\n",
       "2  Female    < 1 Year             No\n",
       "3  Female    < 1 Year             No\n",
       "4    Male    1-2 Year            Yes"
      ]
     },
     "execution_count": 19,
     "metadata": {},
     "output_type": "execute_result"
    }
   ],
   "source": [
    "# cat_vars quick view\n",
    "cat_vars.head()"
   ]
  },
  {
   "cell_type": "code",
   "execution_count": 20,
   "id": "b5826e62-191a-47c8-a2d5-24eefa9ed8c7",
   "metadata": {},
   "outputs": [
    {
     "data": {
      "text/plain": [
       "gender            2\n",
       "vehicle_age       3\n",
       "vehicle_damage    2\n",
       "dtype: int64"
      ]
     },
     "execution_count": 20,
     "metadata": {},
     "output_type": "execute_result"
    }
   ],
   "source": [
    "# Unique classes\n",
    "cat_vars.apply(lambda x: x.unique().shape[0])"
   ]
  },
  {
   "cell_type": "code",
   "execution_count": 21,
   "id": "cff81716-cdd6-4eb2-b1a3-3983e4137dcc",
   "metadata": {},
   "outputs": [
    {
     "data": {
      "text/html": [
       "<div>\n",
       "<style scoped>\n",
       "    .dataframe tbody tr th:only-of-type {\n",
       "        vertical-align: middle;\n",
       "    }\n",
       "\n",
       "    .dataframe tbody tr th {\n",
       "        vertical-align: top;\n",
       "    }\n",
       "\n",
       "    .dataframe thead th {\n",
       "        text-align: right;\n",
       "    }\n",
       "</style>\n",
       "<table border=\"1\" class=\"dataframe\">\n",
       "  <thead>\n",
       "    <tr style=\"text-align: right;\">\n",
       "      <th></th>\n",
       "      <th>descriptive</th>\n",
       "      <th>mean</th>\n",
       "      <th>median</th>\n",
       "      <th>min</th>\n",
       "      <th>max</th>\n",
       "      <th>std</th>\n",
       "      <th>range</th>\n",
       "      <th>skew</th>\n",
       "      <th>kurtosis</th>\n",
       "    </tr>\n",
       "  </thead>\n",
       "  <tbody>\n",
       "    <tr>\n",
       "      <th>0</th>\n",
       "      <td>id</td>\n",
       "      <td>190555.000000</td>\n",
       "      <td>190555.0</td>\n",
       "      <td>1.0</td>\n",
       "      <td>381109.0</td>\n",
       "      <td>110016.691870</td>\n",
       "      <td>381108.0</td>\n",
       "      <td>-8.071174e-18</td>\n",
       "      <td>-1.200000</td>\n",
       "    </tr>\n",
       "    <tr>\n",
       "      <th>1</th>\n",
       "      <td>age</td>\n",
       "      <td>38.822584</td>\n",
       "      <td>36.0</td>\n",
       "      <td>20.0</td>\n",
       "      <td>85.0</td>\n",
       "      <td>15.511591</td>\n",
       "      <td>65.0</td>\n",
       "      <td>6.725390e-01</td>\n",
       "      <td>-0.565655</td>\n",
       "    </tr>\n",
       "    <tr>\n",
       "      <th>2</th>\n",
       "      <td>region_code</td>\n",
       "      <td>26.388807</td>\n",
       "      <td>28.0</td>\n",
       "      <td>0.0</td>\n",
       "      <td>52.0</td>\n",
       "      <td>13.229871</td>\n",
       "      <td>52.0</td>\n",
       "      <td>-1.152664e-01</td>\n",
       "      <td>-0.867857</td>\n",
       "    </tr>\n",
       "    <tr>\n",
       "      <th>3</th>\n",
       "      <td>policy_sales_channel</td>\n",
       "      <td>112.034295</td>\n",
       "      <td>133.0</td>\n",
       "      <td>1.0</td>\n",
       "      <td>163.0</td>\n",
       "      <td>54.203924</td>\n",
       "      <td>162.0</td>\n",
       "      <td>-9.000081e-01</td>\n",
       "      <td>-0.970810</td>\n",
       "    </tr>\n",
       "    <tr>\n",
       "      <th>4</th>\n",
       "      <td>driving_license</td>\n",
       "      <td>0.997869</td>\n",
       "      <td>1.0</td>\n",
       "      <td>0.0</td>\n",
       "      <td>1.0</td>\n",
       "      <td>0.046109</td>\n",
       "      <td>1.0</td>\n",
       "      <td>-2.159518e+01</td>\n",
       "      <td>464.354302</td>\n",
       "    </tr>\n",
       "    <tr>\n",
       "      <th>5</th>\n",
       "      <td>previously_insured</td>\n",
       "      <td>0.458210</td>\n",
       "      <td>0.0</td>\n",
       "      <td>0.0</td>\n",
       "      <td>1.0</td>\n",
       "      <td>0.498251</td>\n",
       "      <td>1.0</td>\n",
       "      <td>1.677471e-01</td>\n",
       "      <td>-1.971871</td>\n",
       "    </tr>\n",
       "    <tr>\n",
       "      <th>6</th>\n",
       "      <td>annual_premium</td>\n",
       "      <td>30564.389581</td>\n",
       "      <td>31669.0</td>\n",
       "      <td>2630.0</td>\n",
       "      <td>540165.0</td>\n",
       "      <td>17213.132474</td>\n",
       "      <td>537535.0</td>\n",
       "      <td>1.766087e+00</td>\n",
       "      <td>34.004569</td>\n",
       "    </tr>\n",
       "    <tr>\n",
       "      <th>7</th>\n",
       "      <td>vintage</td>\n",
       "      <td>154.347397</td>\n",
       "      <td>154.0</td>\n",
       "      <td>10.0</td>\n",
       "      <td>299.0</td>\n",
       "      <td>83.671194</td>\n",
       "      <td>289.0</td>\n",
       "      <td>3.029517e-03</td>\n",
       "      <td>-1.200688</td>\n",
       "    </tr>\n",
       "    <tr>\n",
       "      <th>8</th>\n",
       "      <td>response</td>\n",
       "      <td>0.122563</td>\n",
       "      <td>0.0</td>\n",
       "      <td>0.0</td>\n",
       "      <td>1.0</td>\n",
       "      <td>0.327935</td>\n",
       "      <td>1.0</td>\n",
       "      <td>2.301906e+00</td>\n",
       "      <td>3.298788</td>\n",
       "    </tr>\n",
       "  </tbody>\n",
       "</table>\n",
       "</div>"
      ],
      "text/plain": [
       "            descriptive           mean    median     min       max  \\\n",
       "0                    id  190555.000000  190555.0     1.0  381109.0   \n",
       "1                   age      38.822584      36.0    20.0      85.0   \n",
       "2           region_code      26.388807      28.0     0.0      52.0   \n",
       "3  policy_sales_channel     112.034295     133.0     1.0     163.0   \n",
       "4       driving_license       0.997869       1.0     0.0       1.0   \n",
       "5    previously_insured       0.458210       0.0     0.0       1.0   \n",
       "6        annual_premium   30564.389581   31669.0  2630.0  540165.0   \n",
       "7               vintage     154.347397     154.0    10.0     299.0   \n",
       "8              response       0.122563       0.0     0.0       1.0   \n",
       "\n",
       "             std     range          skew    kurtosis  \n",
       "0  110016.691870  381108.0 -8.071174e-18   -1.200000  \n",
       "1      15.511591      65.0  6.725390e-01   -0.565655  \n",
       "2      13.229871      52.0 -1.152664e-01   -0.867857  \n",
       "3      54.203924     162.0 -9.000081e-01   -0.970810  \n",
       "4       0.046109       1.0 -2.159518e+01  464.354302  \n",
       "5       0.498251       1.0  1.677471e-01   -1.971871  \n",
       "6   17213.132474  537535.0  1.766087e+00   34.004569  \n",
       "7      83.671194     289.0  3.029517e-03   -1.200688  \n",
       "8       0.327935       1.0  2.301906e+00    3.298788  "
      ]
     },
     "execution_count": 21,
     "metadata": {},
     "output_type": "execute_result"
    }
   ],
   "source": [
    "# Central Tendency\n",
    "mean = pd.DataFrame(num_vars.apply(np.mean)).T\n",
    "med = pd.DataFrame(num_vars.apply(np.median)).T\n",
    "\n",
    "# Dispersion\n",
    "mn = pd.DataFrame(num_vars.apply(np.min)).T\n",
    "mx = pd.DataFrame(num_vars.apply(np.max)).T\n",
    "std = pd.DataFrame(num_vars.apply(np.std)).T\n",
    "rng = pd.DataFrame(num_vars.apply(lambda x: x.max() - x.min())).T\n",
    "skw = pd.DataFrame(num_vars.apply(lambda x: x.skew())).T \n",
    "krt = pd.DataFrame(num_vars.apply(lambda x: x.kurtosis())).T \n",
    "                   \n",
    "# Concatenate all in a single DataFrame\n",
    "n = pd.concat([mean, med, mn, mx, std, rng, skw, krt]).T.reset_index()\n",
    "n.columns = ['descriptive', 'mean', 'median', 'min', 'max', 'std', 'range', 'skew', 'kurtosis']\n",
    "n"
   ]
  },
  {
   "cell_type": "code",
   "execution_count": 22,
   "id": "f23eabe2-ce28-446a-b2f1-685d349b0497",
   "metadata": {},
   "outputs": [
    {
     "data": {
      "image/png": "[encoded data removed]",
      "text/plain": [
       "<Figure size 2880x2160 with 9 Axes>"
      ]
     },
     "metadata": {
      "needs_background": "light"
     },
     "output_type": "display_data"
    }
   ],
   "source": [
    "num_vars.hist(bins=20, figsize=(40,30));"
   ]
  },
  {
   "cell_type": "markdown",
   "id": "245d3af4-abce-43f9-9931-ed333c84378b",
   "metadata": {},
   "source": [
    "### Important points:\n",
    "1. `annual_premium` with a maximum of 540.165 rupees seems curious, given that an average health insurance in india costs around 15.200 rupees per year (https://www.movehub.com/us/international-moving/india/healthcare-for-expats/). That could be a luxury plan or something. For now, we will stick with any value assuming they are not outliers, since we don't have more information in the dataset.\n",
    "\n",
    "2. `policy_sales_channel` is also curious. 163 different channels is quite a lot given that they are customer advertising channels. But, once again, we don't have more information in the dataset to make any conclusions.\n",
    "\n",
    "3. There are approximately 300,000 examples of `response` == 0 (not interested) versus approximately 50,000 examples of `response` == 1 (interested). We'll take a closer look at this variable (as is) in the next few steps, to extract some business insights and to understand the nature of imbalance.\n",
    "\n",
    "I will focus on running the first stage of CRISP-DM assuming these limitations and seeing how the algorithms perform. In the real world, asking the business team for more information about features can be interesting."
   ]
  },
  {
   "cell_type": "markdown",
   "id": "5b2b0834-7d48-4732-a65b-c127b6c209e8",
   "metadata": {},
   "source": [
    "### Frequency Table"
   ]
  },
  {
   "cell_type": "code",
   "execution_count": 23,
   "id": "568f8df3-556e-4448-bfd1-4a060cce16c9",
   "metadata": {},
   "outputs": [],
   "source": [
    "gender = cat_vars['gender'].value_counts(normalize=True).apply(lambda x: str(round(x*100))+'%').reset_index()\n",
    "vehicle_age = cat_vars['vehicle_age'].value_counts(normalize=True).apply(lambda x: str(round(x*100))+'%').reset_index()\n",
    "vehicle_damage = cat_vars['vehicle_damage'].value_counts(normalize=True).apply(lambda x: str(round(x*100))+'%').reset_index()"
   ]
  },
  {
   "cell_type": "code",
   "execution_count": 24,
   "id": "065ef33d-c76c-41c8-86de-5435d984ff82",
   "metadata": {},
   "outputs": [
    {
     "data": {
      "text/html": [
       "<div>\n",
       "<style scoped>\n",
       "    .dataframe tbody tr th:only-of-type {\n",
       "        vertical-align: middle;\n",
       "    }\n",
       "\n",
       "    .dataframe tbody tr th {\n",
       "        vertical-align: top;\n",
       "    }\n",
       "\n",
       "    .dataframe thead th {\n",
       "        text-align: right;\n",
       "    }\n",
       "</style>\n",
       "<table border=\"1\" class=\"dataframe\">\n",
       "  <thead>\n",
       "    <tr style=\"text-align: right;\">\n",
       "      <th></th>\n",
       "      <th>0</th>\n",
       "      <th>1</th>\n",
       "      <th>0</th>\n",
       "      <th>1</th>\n",
       "      <th>2</th>\n",
       "      <th>0</th>\n",
       "      <th>1</th>\n",
       "    </tr>\n",
       "  </thead>\n",
       "  <tbody>\n",
       "    <tr>\n",
       "      <th>Categories</th>\n",
       "      <td>Male</td>\n",
       "      <td>Female</td>\n",
       "      <td>1-2 Year</td>\n",
       "      <td>&lt; 1 Year</td>\n",
       "      <td>&gt; 2 Years</td>\n",
       "      <td>Yes</td>\n",
       "      <td>No</td>\n",
       "    </tr>\n",
       "    <tr>\n",
       "      <th>gender</th>\n",
       "      <td>54%</td>\n",
       "      <td>46%</td>\n",
       "      <td>-</td>\n",
       "      <td>-</td>\n",
       "      <td>-</td>\n",
       "      <td>-</td>\n",
       "      <td>-</td>\n",
       "    </tr>\n",
       "    <tr>\n",
       "      <th>vehicle_age</th>\n",
       "      <td>-</td>\n",
       "      <td>-</td>\n",
       "      <td>53%</td>\n",
       "      <td>43%</td>\n",
       "      <td>4%</td>\n",
       "      <td>-</td>\n",
       "      <td>-</td>\n",
       "    </tr>\n",
       "    <tr>\n",
       "      <th>vehicle_damage</th>\n",
       "      <td>-</td>\n",
       "      <td>-</td>\n",
       "      <td>-</td>\n",
       "      <td>-</td>\n",
       "      <td>-</td>\n",
       "      <td>50%</td>\n",
       "      <td>50%</td>\n",
       "    </tr>\n",
       "  </tbody>\n",
       "</table>\n",
       "</div>"
      ],
      "text/plain": [
       "                   0       1         0         1          2    0    1\n",
       "Categories      Male  Female  1-2 Year  < 1 Year  > 2 Years  Yes   No\n",
       "gender           54%     46%         -         -          -    -    -\n",
       "vehicle_age        -       -       53%       43%         4%    -    -\n",
       "vehicle_damage     -       -         -         -          -  50%  50%"
      ]
     },
     "execution_count": 24,
     "metadata": {},
     "output_type": "execute_result"
    }
   ],
   "source": [
    "n = pd.concat([gender, vehicle_age, vehicle_damage])\n",
    "n.fillna(value='-').rename(columns={'index':'Categories'}).T"
   ]
  },
  {
   "cell_type": "code",
   "execution_count": 25,
   "id": "c63c6754-af9a-4f21-96db-85537ed58c03",
   "metadata": {},
   "outputs": [
    {
     "data": {
      "image/png": "[encoded data removed]",
      "text/plain": [
       "<Figure size 432x288 with 3 Axes>"
      ]
     },
     "metadata": {},
     "output_type": "display_data"
    }
   ],
   "source": [
    "plt.subplot(1,3,1)\n",
    "cat_vars['gender'].value_counts().plot.pie(rot=0, autopct='%.2f%%')\n",
    "\n",
    "plt.subplot(1,3,2)\n",
    "cat_vars['vehicle_age'].value_counts().plot.pie(rot=0, autopct='%.2f%%')\n",
    "\n",
    "plt.subplot(1,3,3)\n",
    "cat_vars['vehicle_damage'].value_counts().plot.pie(rot=0, autopct='%.2f%%');"
   ]
  },
  {
   "cell_type": "markdown",
   "id": "df38a6ff-727a-4d45-866f-7d99c4677b95",
   "metadata": {},
   "source": [
    "# 2.0. Feature Engineering"
   ]
  },
  {
   "cell_type": "code",
   "execution_count": 26,
   "id": "f8d85a1d-447c-4263-84bf-218cbef27f13",
   "metadata": {},
   "outputs": [],
   "source": [
    "# Checkpoint\n",
    "df2 = df1.copy()"
   ]
  },
  {
   "cell_type": "code",
   "execution_count": 27,
   "id": "f7de5111-e7c8-4cfe-8cfe-566cd0ce369c",
   "metadata": {},
   "outputs": [
    {
     "data": {
      "text/html": [
       "<div>\n",
       "<style scoped>\n",
       "    .dataframe tbody tr th:only-of-type {\n",
       "        vertical-align: middle;\n",
       "    }\n",
       "\n",
       "    .dataframe tbody tr th {\n",
       "        vertical-align: top;\n",
       "    }\n",
       "\n",
       "    .dataframe thead th {\n",
       "        text-align: right;\n",
       "    }\n",
       "</style>\n",
       "<table border=\"1\" class=\"dataframe\">\n",
       "  <thead>\n",
       "    <tr style=\"text-align: right;\">\n",
       "      <th></th>\n",
       "      <th>id</th>\n",
       "      <th>gender</th>\n",
       "      <th>age</th>\n",
       "      <th>region_code</th>\n",
       "      <th>policy_sales_channel</th>\n",
       "      <th>driving_license</th>\n",
       "      <th>vehicle_age</th>\n",
       "      <th>vehicle_damage</th>\n",
       "      <th>previously_insured</th>\n",
       "      <th>annual_premium</th>\n",
       "      <th>vintage</th>\n",
       "      <th>response</th>\n",
       "    </tr>\n",
       "  </thead>\n",
       "  <tbody>\n",
       "    <tr>\n",
       "      <th>0</th>\n",
       "      <td>7</td>\n",
       "      <td>Male</td>\n",
       "      <td>23</td>\n",
       "      <td>11.0</td>\n",
       "      <td>152.0</td>\n",
       "      <td>1</td>\n",
       "      <td>&lt; 1 Year</td>\n",
       "      <td>Yes</td>\n",
       "      <td>0</td>\n",
       "      <td>23367.0</td>\n",
       "      <td>249</td>\n",
       "      <td>0</td>\n",
       "    </tr>\n",
       "    <tr>\n",
       "      <th>1</th>\n",
       "      <td>13</td>\n",
       "      <td>Female</td>\n",
       "      <td>41</td>\n",
       "      <td>15.0</td>\n",
       "      <td>14.0</td>\n",
       "      <td>1</td>\n",
       "      <td>1-2 Year</td>\n",
       "      <td>No</td>\n",
       "      <td>1</td>\n",
       "      <td>31409.0</td>\n",
       "      <td>221</td>\n",
       "      <td>0</td>\n",
       "    </tr>\n",
       "    <tr>\n",
       "      <th>2</th>\n",
       "      <td>18</td>\n",
       "      <td>Female</td>\n",
       "      <td>25</td>\n",
       "      <td>35.0</td>\n",
       "      <td>152.0</td>\n",
       "      <td>1</td>\n",
       "      <td>&lt; 1 Year</td>\n",
       "      <td>No</td>\n",
       "      <td>1</td>\n",
       "      <td>46622.0</td>\n",
       "      <td>299</td>\n",
       "      <td>0</td>\n",
       "    </tr>\n",
       "    <tr>\n",
       "      <th>3</th>\n",
       "      <td>31</td>\n",
       "      <td>Female</td>\n",
       "      <td>26</td>\n",
       "      <td>8.0</td>\n",
       "      <td>160.0</td>\n",
       "      <td>1</td>\n",
       "      <td>&lt; 1 Year</td>\n",
       "      <td>No</td>\n",
       "      <td>0</td>\n",
       "      <td>2630.0</td>\n",
       "      <td>136</td>\n",
       "      <td>0</td>\n",
       "    </tr>\n",
       "    <tr>\n",
       "      <th>4</th>\n",
       "      <td>39</td>\n",
       "      <td>Male</td>\n",
       "      <td>45</td>\n",
       "      <td>8.0</td>\n",
       "      <td>124.0</td>\n",
       "      <td>1</td>\n",
       "      <td>1-2 Year</td>\n",
       "      <td>Yes</td>\n",
       "      <td>0</td>\n",
       "      <td>42297.0</td>\n",
       "      <td>264</td>\n",
       "      <td>0</td>\n",
       "    </tr>\n",
       "  </tbody>\n",
       "</table>\n",
       "</div>"
      ],
      "text/plain": [
       "   id  gender  age  region_code  policy_sales_channel  driving_license  \\\n",
       "0   7    Male   23         11.0                 152.0                1   \n",
       "1  13  Female   41         15.0                  14.0                1   \n",
       "2  18  Female   25         35.0                 152.0                1   \n",
       "3  31  Female   26          8.0                 160.0                1   \n",
       "4  39    Male   45          8.0                 124.0                1   \n",
       "\n",
       "  vehicle_age vehicle_damage  previously_insured  annual_premium  vintage  \\\n",
       "0    < 1 Year            Yes                   0         23367.0      249   \n",
       "1    1-2 Year             No                   1         31409.0      221   \n",
       "2    < 1 Year             No                   1         46622.0      299   \n",
       "3    < 1 Year             No                   0          2630.0      136   \n",
       "4    1-2 Year            Yes                   0         42297.0      264   \n",
       "\n",
       "   response  \n",
       "0         0  \n",
       "1         0  \n",
       "2         0  \n",
       "3         0  \n",
       "4         0  "
      ]
     },
     "execution_count": 27,
     "metadata": {},
     "output_type": "execute_result"
    }
   ],
   "source": [
    "# Quick view\n",
    "df2.head()"
   ]
  },
  {
   "cell_type": "code",
   "execution_count": 28,
   "id": "6c5e925f-d4fb-43cf-a741-1b78f88e0f04",
   "metadata": {},
   "outputs": [],
   "source": [
    "# I'll rename some categories for better organization\n",
    "# Change vehicle_age\n",
    "df2['vehicle_age'] = df2['vehicle_age'].apply(lambda x: 'over_2_years' if x == '> 2 Years' else 'between_1_2_years' \n",
    "                                                                       if x == '1-2 Year' else 'below_1_year')\n",
    "# Change vehicle_damage\n",
    "df2['vehicle_damage'] = df2['vehicle_damage'].apply(lambda x: 1 if x == 'Yes' else 0)"
   ]
  },
  {
   "cell_type": "markdown",
   "id": "dc41ed11-5d50-4fe6-b31c-94c2de59f4f5",
   "metadata": {},
   "source": [
    "# 3.0. Data Filtering"
   ]
  },
  {
   "cell_type": "code",
   "execution_count": 29,
   "id": "2f11c5d7-95af-41b8-9c5c-3444fbbd91ce",
   "metadata": {},
   "outputs": [],
   "source": [
    "df3 = df2.copy()"
   ]
  },
  {
   "cell_type": "markdown",
   "id": "8a9a9a92-4d12-4020-9ed1-be914a919bf1",
   "metadata": {},
   "source": [
    "# 4.0. EDA"
   ]
  },
  {
   "cell_type": "markdown",
   "id": "fe13e5a8-bbf1-471f-90a8-4ea734e5624c",
   "metadata": {},
   "source": [
    "This analysis is important to understand how the predictors relate to each other and to the target variable, generating business insights and revealing features relevant to our model. In addition, below, we will use a model for feature selection to contrast our findings, improving our choice of relevant variables for the final model."
   ]
  },
  {
   "cell_type": "code",
   "execution_count": 30,
   "id": "cda58f7b-05e5-4493-9172-6f01f780cfb4",
   "metadata": {},
   "outputs": [],
   "source": [
    "df4 = df3.copy()"
   ]
  },
  {
   "cell_type": "markdown",
   "id": "de53663a-fd8e-4a11-b443-ff4938974743",
   "metadata": {},
   "source": [
    "## 4.1. Bivariate Analysis"
   ]
  },
  {
   "cell_type": "code",
   "execution_count": 31,
   "id": "35f823cd-8f25-4dc4-a1ca-7cea9c2d8b15",
   "metadata": {},
   "outputs": [
    {
     "data": {
      "image/png": "[encoded data removed]",
      "text/plain": [
       "<Figure size 432x288 with 1 Axes>"
      ]
     },
     "metadata": {
      "needs_background": "light"
     },
     "output_type": "display_data"
    }
   ],
   "source": [
    "# Age\n",
    "sns.boxplot(x='response', y='age', data=df4);"
   ]
  },
  {
   "cell_type": "markdown",
   "id": "2a3187ca-96c5-4620-bab9-d60013bb2b98",
   "metadata": {},
   "source": [
    "We have different age ranges for people who are interested in the product compared to those who are not.\n",
    "But let's check this more closely, with the help of distributions."
   ]
  },
  {
   "cell_type": "code",
   "execution_count": 32,
   "id": "cc8d79fd-5c2d-48e6-92d3-b5b4b0fa1dcf",
   "metadata": {},
   "outputs": [
    {
     "data": {
      "image/png": "[encoded data removed]",
      "text/plain": [
       "<Figure size 432x288 with 2 Axes>"
      ]
     },
     "metadata": {
      "needs_background": "light"
     },
     "output_type": "display_data"
    }
   ],
   "source": [
    "# Checking distributions\n",
    "plt.subplot(1,2,1)\n",
    "aux1 = df4[df4['response'] == 0]['age']\n",
    "sns.histplot(aux1);\n",
    "\n",
    "plt.subplot(1,2,2)\n",
    "aux2 = df4[df4['response'] == 1]['age']\n",
    "sns.histplot(aux2);"
   ]
  },
  {
   "cell_type": "markdown",
   "id": "34f62f56-d101-4ad3-9f2b-40117f6590d1",
   "metadata": {},
   "source": [
    "`age` seems to be a representative feature that separates classes relatively well, but we may have problems with the volume of examples between ages.\n",
    "\n",
    "Note the peaks between 20-30 years in non-interested and the peaks between 40-50 years in interested.\n",
    "The data has a lot more examples in the peaks of not interested people than interested people (approx. 25,000 vs approx. 1,750)\n",
    "\n",
    "It's something to keep in mind and we'll take care of that later."
   ]
  },
  {
   "cell_type": "code",
   "execution_count": 33,
   "id": "dc25cd0c-8c71-41ff-b6d1-854c9cf79cd3",
   "metadata": {},
   "outputs": [
    {
     "data": {
      "text/html": [
       "<div>\n",
       "<style scoped>\n",
       "    .dataframe tbody tr th:only-of-type {\n",
       "        vertical-align: middle;\n",
       "    }\n",
       "\n",
       "    .dataframe tbody tr th {\n",
       "        vertical-align: top;\n",
       "    }\n",
       "\n",
       "    .dataframe thead th {\n",
       "        text-align: right;\n",
       "    }\n",
       "</style>\n",
       "<table border=\"1\" class=\"dataframe\">\n",
       "  <thead>\n",
       "    <tr style=\"text-align: right;\">\n",
       "      <th>response</th>\n",
       "      <th>0</th>\n",
       "      <th>1</th>\n",
       "    </tr>\n",
       "    <tr>\n",
       "      <th>gender</th>\n",
       "      <th></th>\n",
       "      <th></th>\n",
       "    </tr>\n",
       "  </thead>\n",
       "  <tbody>\n",
       "    <tr>\n",
       "      <th>Female</th>\n",
       "      <td>89.61</td>\n",
       "      <td>10.39</td>\n",
       "    </tr>\n",
       "    <tr>\n",
       "      <th>Male</th>\n",
       "      <td>86.16</td>\n",
       "      <td>13.84</td>\n",
       "    </tr>\n",
       "  </tbody>\n",
       "</table>\n",
       "</div>"
      ],
      "text/plain": [
       "response      0      1\n",
       "gender                \n",
       "Female    89.61  10.39\n",
       "Male      86.16  13.84"
      ]
     },
     "execution_count": 33,
     "metadata": {},
     "output_type": "execute_result"
    }
   ],
   "source": [
    "# gender\n",
    "aux = pd.crosstab(index=df4['gender'], columns=df4['response'], normalize='index').apply(lambda x: round(x*100,2), axis=1)\n",
    "aux"
   ]
  },
  {
   "cell_type": "code",
   "execution_count": 34,
   "id": "6b31c46e-92af-4a65-9487-778906c4c5a3",
   "metadata": {},
   "outputs": [
    {
     "data": {
      "image/png": "[encoded data removed]",
      "text/plain": [
       "<Figure size 432x288 with 1 Axes>"
      ]
     },
     "metadata": {
      "needs_background": "light"
     },
     "output_type": "display_data"
    }
   ],
   "source": [
    "aux.plot.bar(stacked=True);"
   ]
  },
  {
   "cell_type": "markdown",
   "id": "1cf8fdf9-9c85-4645-b8a9-c2700312737e",
   "metadata": {},
   "source": [
    "There is approximately a 3% difference in the amount of `response` between genders. `gender` is a non-discriminatory variable and therefore apparently not relevant to the model. Let's move on."
   ]
  },
  {
   "cell_type": "code",
   "execution_count": 35,
   "id": "6fea3d6f-d712-47fb-afc7-9c1d7bc51d66",
   "metadata": {},
   "outputs": [
    {
     "data": {
      "image/png": "[encoded data removed]",
      "text/plain": [
       "<Figure size 432x288 with 1 Axes>"
      ]
     },
     "metadata": {
      "needs_background": "light"
     },
     "output_type": "display_data"
    }
   ],
   "source": [
    "# annual_premium\n",
    "sns.boxplot(x='response', y='annual_premium', data=df4);"
   ]
  },
  {
   "cell_type": "code",
   "execution_count": 36,
   "id": "5333f0da-afdc-4ad0-b7c5-4bab40c658fa",
   "metadata": {},
   "outputs": [
    {
     "data": {
      "image/png": "[encoded data removed]",
      "text/plain": [
       "<Figure size 432x288 with 1 Axes>"
      ]
     },
     "metadata": {
      "needs_background": "light"
     },
     "output_type": "display_data"
    }
   ],
   "source": [
    "# Let's filter outliers in annual_premium a little bit for a better visualization\n",
    "aux = df4[df4['annual_premium'] < 80000]\n",
    "sns.boxplot(x='response', y='annual_premium', data=aux);"
   ]
  },
  {
   "cell_type": "code",
   "execution_count": 37,
   "id": "6e4fffb5-629f-4c7c-8414-0ff396296371",
   "metadata": {},
   "outputs": [
    {
     "data": {
      "image/png": "[encoded data removed]",
      "text/plain": [
       "<Figure size 432x288 with 2 Axes>"
      ]
     },
     "metadata": {
      "needs_background": "light"
     },
     "output_type": "display_data"
    }
   ],
   "source": [
    "# Checking distributions\n",
    "# Filtering the annual_premium peak that occurs below 10000 \n",
    "aux0 = df4[(df4['annual_premium'] > 10000) & (df4['annual_premium'] < 80000)]\n",
    "\n",
    "plt.subplot(1,2,1)\n",
    "aux1 = aux0[aux0['response'] == 0]['annual_premium']\n",
    "sns.distplot(aux1);\n",
    "\n",
    "plt.subplot(1,2,2)\n",
    "aux2 = aux0[aux0['response'] == 1]['annual_premium']\n",
    "sns.distplot(aux2);\n"
   ]
  },
  {
   "cell_type": "markdown",
   "id": "72f3a7a9-d6df-4977-a86f-1f3971ebb8ea",
   "metadata": {},
   "source": [
    "If we were to distinguish the median of `annual_premium` for customers who are interested in vehicle insurance (`response` == 1) compared to customers who are not interested (`response` == 0), we would not see any difference in the medians, demonstrating that `annual_premium` doesn't segregate classes so well."
   ]
  },
  {
   "cell_type": "markdown",
   "id": "9daca397-0cf5-4177-a7ee-a299925d57ff",
   "metadata": {},
   "source": [
    "Maybe combining `annual_premium` with another variable bring a better segregation, but for now the feature does not seem to be a contributor to future models. "
   ]
  },
  {
   "cell_type": "code",
   "execution_count": 38,
   "id": "673a5e34-f4e1-4c1e-a255-c6bdb979ab39",
   "metadata": {},
   "outputs": [
    {
     "data": {
      "text/html": [
       "<div>\n",
       "<style scoped>\n",
       "    .dataframe tbody tr th:only-of-type {\n",
       "        vertical-align: middle;\n",
       "    }\n",
       "\n",
       "    .dataframe tbody tr th {\n",
       "        vertical-align: top;\n",
       "    }\n",
       "\n",
       "    .dataframe thead th {\n",
       "        text-align: right;\n",
       "    }\n",
       "</style>\n",
       "<table border=\"1\" class=\"dataframe\">\n",
       "  <thead>\n",
       "    <tr style=\"text-align: right;\">\n",
       "      <th>response</th>\n",
       "      <th>0</th>\n",
       "      <th>1</th>\n",
       "    </tr>\n",
       "    <tr>\n",
       "      <th>driving_license</th>\n",
       "      <th></th>\n",
       "      <th></th>\n",
       "    </tr>\n",
       "  </thead>\n",
       "  <tbody>\n",
       "    <tr>\n",
       "      <th>0</th>\n",
       "      <td>94.950739</td>\n",
       "      <td>5.049261</td>\n",
       "    </tr>\n",
       "    <tr>\n",
       "      <th>1</th>\n",
       "      <td>87.728276</td>\n",
       "      <td>12.271724</td>\n",
       "    </tr>\n",
       "  </tbody>\n",
       "</table>\n",
       "</div>"
      ],
      "text/plain": [
       "response                 0          1\n",
       "driving_license                      \n",
       "0                94.950739   5.049261\n",
       "1                87.728276  12.271724"
      ]
     },
     "execution_count": 38,
     "metadata": {},
     "output_type": "execute_result"
    }
   ],
   "source": [
    "# driving_license \n",
    "aux = pd.crosstab(index=df4['driving_license'], columns=df4['response'], normalize='index')\n",
    "aux.apply(lambda x: x*100)"
   ]
  },
  {
   "cell_type": "markdown",
   "id": "532c5ac4-a0bb-41c0-9c62-76d2afb901b1",
   "metadata": {},
   "source": [
    "Of the people who have a driver's license, only 12.27% are interested in car insurance.\n",
    "\n",
    "It is a variable that seems discriminatory, but needs to be analyzed in combination with other variables."
   ]
  },
  {
   "cell_type": "code",
   "execution_count": 39,
   "id": "10782629-f0ef-41ba-aa3e-0d2cdea98443",
   "metadata": {},
   "outputs": [
    {
     "data": {
      "image/png": "[encoded data removed]",
      "text/plain": [
       "<Figure size 432x288 with 1 Axes>"
      ]
     },
     "metadata": {
      "needs_background": "light"
     },
     "output_type": "display_data"
    }
   ],
   "source": [
    "# region_code\n",
    "aux = df4[['id', 'region_code', 'response']].groupby(['region_code', 'response']).count().reset_index()\n",
    "\n",
    "sns.scatterplot(x='region_code',y='id',hue='response',data=aux);"
   ]
  },
  {
   "cell_type": "markdown",
   "id": "843a5576-00d8-4d59-9242-b971479aae8e",
   "metadata": {},
   "source": [
    "`region_code` looks a bit homogenous. For now, it doesn't seem to be a class with great discriminatory power."
   ]
  },
  {
   "cell_type": "code",
   "execution_count": 40,
   "id": "26fcdc06-3460-4d17-a0bf-6b1380509032",
   "metadata": {},
   "outputs": [
    {
     "data": {
      "text/html": [
       "<div>\n",
       "<style scoped>\n",
       "    .dataframe tbody tr th:only-of-type {\n",
       "        vertical-align: middle;\n",
       "    }\n",
       "\n",
       "    .dataframe tbody tr th {\n",
       "        vertical-align: top;\n",
       "    }\n",
       "\n",
       "    .dataframe thead th {\n",
       "        text-align: right;\n",
       "    }\n",
       "</style>\n",
       "<table border=\"1\" class=\"dataframe\">\n",
       "  <thead>\n",
       "    <tr style=\"text-align: right;\">\n",
       "      <th>response</th>\n",
       "      <th>0</th>\n",
       "      <th>1</th>\n",
       "    </tr>\n",
       "    <tr>\n",
       "      <th>previously_insured</th>\n",
       "      <th></th>\n",
       "      <th></th>\n",
       "    </tr>\n",
       "  </thead>\n",
       "  <tbody>\n",
       "    <tr>\n",
       "      <th>0</th>\n",
       "      <td>77.45</td>\n",
       "      <td>22.55</td>\n",
       "    </tr>\n",
       "    <tr>\n",
       "      <th>1</th>\n",
       "      <td>99.91</td>\n",
       "      <td>0.09</td>\n",
       "    </tr>\n",
       "  </tbody>\n",
       "</table>\n",
       "</div>"
      ],
      "text/plain": [
       "response                0      1\n",
       "previously_insured              \n",
       "0                   77.45  22.55\n",
       "1                   99.91   0.09"
      ]
     },
     "execution_count": 40,
     "metadata": {},
     "output_type": "execute_result"
    }
   ],
   "source": [
    "# previously_insured\n",
    "aux = pd.crosstab(df4['previously_insured'], df4['response']).apply(lambda x: round((x / x.sum())*100, 2), axis=1)\n",
    "aux"
   ]
  },
  {
   "cell_type": "markdown",
   "id": "4a78e9db-6a4f-45bf-bcdf-92225364dd97",
   "metadata": {},
   "source": [
    "The frequency table shows us delicate information: Almost 100% of `previously_insured` do not want to buy car insurance. Technically this situation can be interpreted as a data leakage. Let's keep this in mind and check further later."
   ]
  },
  {
   "cell_type": "code",
   "execution_count": 41,
   "id": "735bf187-4ac7-45ea-91d7-7b13df1af2b6",
   "metadata": {},
   "outputs": [
    {
     "data": {
      "text/html": [
       "<div>\n",
       "<style scoped>\n",
       "    .dataframe tbody tr th:only-of-type {\n",
       "        vertical-align: middle;\n",
       "    }\n",
       "\n",
       "    .dataframe tbody tr th {\n",
       "        vertical-align: top;\n",
       "    }\n",
       "\n",
       "    .dataframe thead th {\n",
       "        text-align: right;\n",
       "    }\n",
       "</style>\n",
       "<table border=\"1\" class=\"dataframe\">\n",
       "  <thead>\n",
       "    <tr style=\"text-align: right;\">\n",
       "      <th></th>\n",
       "      <th>vehicle_age</th>\n",
       "      <th>response</th>\n",
       "      <th>0</th>\n",
       "    </tr>\n",
       "  </thead>\n",
       "  <tbody>\n",
       "    <tr>\n",
       "      <th>1</th>\n",
       "      <td>below_1_year</td>\n",
       "      <td>0</td>\n",
       "      <td>41.35</td>\n",
       "    </tr>\n",
       "    <tr>\n",
       "      <th>4</th>\n",
       "      <td>below_1_year</td>\n",
       "      <td>1</td>\n",
       "      <td>1.89</td>\n",
       "    </tr>\n",
       "    <tr>\n",
       "      <th>0</th>\n",
       "      <td>between_1_2_years</td>\n",
       "      <td>0</td>\n",
       "      <td>43.43</td>\n",
       "    </tr>\n",
       "    <tr>\n",
       "      <th>2</th>\n",
       "      <td>between_1_2_years</td>\n",
       "      <td>1</td>\n",
       "      <td>9.13</td>\n",
       "    </tr>\n",
       "    <tr>\n",
       "      <th>3</th>\n",
       "      <td>over_2_years</td>\n",
       "      <td>0</td>\n",
       "      <td>2.97</td>\n",
       "    </tr>\n",
       "    <tr>\n",
       "      <th>5</th>\n",
       "      <td>over_2_years</td>\n",
       "      <td>1</td>\n",
       "      <td>1.23</td>\n",
       "    </tr>\n",
       "  </tbody>\n",
       "</table>\n",
       "</div>"
      ],
      "text/plain": [
       "         vehicle_age  response      0\n",
       "1       below_1_year         0  41.35\n",
       "4       below_1_year         1   1.89\n",
       "0  between_1_2_years         0  43.43\n",
       "2  between_1_2_years         1   9.13\n",
       "3       over_2_years         0   2.97\n",
       "5       over_2_years         1   1.23"
      ]
     },
     "execution_count": 41,
     "metadata": {},
     "output_type": "execute_result"
    }
   ],
   "source": [
    "# vehicle_age\n",
    "aux = df4[['vehicle_age', 'response']].value_counts(normalize=True).apply(lambda x: round(x*100,2)).reset_index()\n",
    "aux.sort_values('vehicle_age',ascending=True)"
   ]
  },
  {
   "cell_type": "markdown",
   "id": "eb1f5610-0e28-409c-944d-2374ba799df7",
   "metadata": {},
   "source": [
    "In `vehicle_age`, there is a great potential for class discrimination between people with vehicles that are up to 2 years old, decreasing among people with vehicles that has over 2 years. Thus, the variable may or may not be useful to our model."
   ]
  },
  {
   "cell_type": "code",
   "execution_count": 42,
   "id": "a1211e51-1a93-4c49-8c20-8d07c2712533",
   "metadata": {},
   "outputs": [
    {
     "data": {
      "image/png": "[encoded data removed]",
      "text/plain": [
       "<Figure size 432x288 with 1 Axes>"
      ]
     },
     "metadata": {
      "needs_background": "light"
     },
     "output_type": "display_data"
    }
   ],
   "source": [
    "# policy_sales_channel\n",
    "aux = pd.crosstab(index=df4['response'],columns=df4['policy_sales_channel'], normalize='index')\n",
    "\n",
    "#checking how channel is divided by response \n",
    "aux1 = aux.plot.bar(stacked=True).legend(ncol=4);"
   ]
  },
  {
   "cell_type": "markdown",
   "id": "a7ca83aa-50b3-44bf-baf2-07a456e73ba8",
   "metadata": {},
   "source": [
    "`policy sales channel` seems to segregate `response` in an interesting way. Note the proportions of each color (channel) for `response` == 0 and `response` == 1"
   ]
  },
  {
   "cell_type": "code",
   "execution_count": 43,
   "id": "80304972-7a73-4236-965d-52c37dd65d3e",
   "metadata": {},
   "outputs": [
    {
     "data": {
      "text/html": [
       "<div>\n",
       "<style scoped>\n",
       "    .dataframe tbody tr th:only-of-type {\n",
       "        vertical-align: middle;\n",
       "    }\n",
       "\n",
       "    .dataframe tbody tr th {\n",
       "        vertical-align: top;\n",
       "    }\n",
       "\n",
       "    .dataframe thead th {\n",
       "        text-align: right;\n",
       "    }\n",
       "</style>\n",
       "<table border=\"1\" class=\"dataframe\">\n",
       "  <thead>\n",
       "    <tr style=\"text-align: right;\">\n",
       "      <th></th>\n",
       "      <th>policy_sales_channel</th>\n",
       "      <th>0</th>\n",
       "    </tr>\n",
       "  </thead>\n",
       "  <tbody>\n",
       "    <tr>\n",
       "      <th>0</th>\n",
       "      <td>26.0</td>\n",
       "      <td>14.938857</td>\n",
       "    </tr>\n",
       "    <tr>\n",
       "      <th>1</th>\n",
       "      <td>124.0</td>\n",
       "      <td>12.021267</td>\n",
       "    </tr>\n",
       "    <tr>\n",
       "      <th>2</th>\n",
       "      <td>156.0</td>\n",
       "      <td>2.416373</td>\n",
       "    </tr>\n",
       "    <tr>\n",
       "      <th>3</th>\n",
       "      <td>157.0</td>\n",
       "      <td>2.378394</td>\n",
       "    </tr>\n",
       "    <tr>\n",
       "      <th>4</th>\n",
       "      <td>154.0</td>\n",
       "      <td>1.804262</td>\n",
       "    </tr>\n",
       "  </tbody>\n",
       "</table>\n",
       "</div>"
      ],
      "text/plain": [
       "   policy_sales_channel          0\n",
       "0                  26.0  14.938857\n",
       "1                 124.0  12.021267\n",
       "2                 156.0   2.416373\n",
       "3                 157.0   2.378394\n",
       "4                 154.0   1.804262"
      ]
     },
     "execution_count": 43,
     "metadata": {},
     "output_type": "execute_result"
    }
   ],
   "source": [
    "# Top 5 differences in response between channels\n",
    "aux1 = aux.T.apply(lambda x: x[1] - x[0], axis=1)\n",
    "aux1.sort_values(ascending=False).apply(lambda x: x*100).reset_index().head(5)"
   ]
  },
  {
   "cell_type": "code",
   "execution_count": 44,
   "id": "cec80d20-d25d-4e5a-9240-14fe07a3e930",
   "metadata": {},
   "outputs": [
    {
     "data": {
      "image/png": "[encoded data removed]",
      "text/plain": [
       "<Figure size 432x288 with 1 Axes>"
      ]
     },
     "metadata": {
      "needs_background": "light"
     },
     "output_type": "display_data"
    }
   ],
   "source": [
    "# vintage\n",
    "sns.boxplot(x='response', y='vintage', data=df4);"
   ]
  },
  {
   "cell_type": "markdown",
   "id": "ed8c9b7e-3361-4c45-b381-a74b2caa39ce",
   "metadata": {},
   "source": [
    "`vintage` looks pretty homogeneous. Let's look at the distributions."
   ]
  },
  {
   "cell_type": "code",
   "execution_count": 45,
   "id": "4cce7f85-71e6-4a7e-9f39-49911b963deb",
   "metadata": {},
   "outputs": [
    {
     "data": {
      "image/png": "[encoded data removed]",
      "text/plain": [
       "<Figure size 1440x360 with 2 Axes>"
      ]
     },
     "metadata": {
      "needs_background": "light"
     },
     "output_type": "display_data"
    }
   ],
   "source": [
    "aux1 = df4[df4['response'] == 0]['vintage']\n",
    "aux2 =  df4[df4['response'] == 1]['vintage']\n",
    "\n",
    "plt.figure(figsize=(20,5))\n",
    "plt.subplot(1,2,1)\n",
    "sns.distplot(aux1);\n",
    "\n",
    "plt.subplot(1,2,2)\n",
    "sns.distplot(aux2);"
   ]
  },
  {
   "cell_type": "markdown",
   "id": "67099b75-61dc-41a2-af2e-a0361c8e8dcb",
   "metadata": {},
   "source": [
    "`vintage` does not appear to be a discriminatory variable for `response` because both the medians and the distributions are quite similar."
   ]
  },
  {
   "cell_type": "markdown",
   "id": "a057febd-2902-4b51-960c-61e27a46e615",
   "metadata": {
    "tags": []
   },
   "source": [
    "# 5.0. Data Preparation"
   ]
  },
  {
   "cell_type": "markdown",
   "id": "c4ab0839-b79a-408c-bbc1-8c436b0bcf18",
   "metadata": {},
   "source": [
    "In this step we will focus on transforming the variables in congruence with their statistical nature, so that our machine leraning model has an adequate performance."
   ]
  },
  {
   "cell_type": "code",
   "execution_count": 46,
   "id": "232a001b-073e-4ae4-9f8f-d3ad8a1a41c6",
   "metadata": {},
   "outputs": [],
   "source": [
    "# Checkpoint\n",
    "df5 = df4.copy()"
   ]
  },
  {
   "cell_type": "code",
   "execution_count": 47,
   "id": "71dcd4d7-4a97-46a8-8a4e-f950a4700e77",
   "metadata": {},
   "outputs": [],
   "source": [
    "# Split data into training and validation\n",
    "x = df4.drop('response', axis=1)\n",
    "y = df4['response'].copy()\n",
    "\n",
    "x_train, x_validation, y_train, y_validation = ms.train_test_split(x, y, test_size=0.20)\n",
    "df5 = pd.concat([x_train, y_train], axis=1)"
   ]
  },
  {
   "cell_type": "markdown",
   "id": "ce4ce020-731c-41ba-be09-35aa86a65ddb",
   "metadata": {},
   "source": [
    "## 5.1. Standardization"
   ]
  },
  {
   "cell_type": "code",
   "execution_count": 48,
   "id": "3c80b5b9-41e4-4464-99b9-facd731b3b07",
   "metadata": {},
   "outputs": [],
   "source": [
    "# Class instantiation for standardization\n",
    "ss = pp.StandardScaler()"
   ]
  },
  {
   "cell_type": "code",
   "execution_count": 49,
   "id": "056b9ce5-70b7-4df2-ab4c-f2d0a4597028",
   "metadata": {},
   "outputs": [],
   "source": [
    "# annual_premium\n",
    "df5['annual_premium'] = ss.fit_transform(df5[['annual_premium']].values)\n",
    "\n",
    "# save to binary\n",
    "pickle.dump(ss, open(r'C:\\Users\\psvin\\Documents\\repos\\portfolio-DS\\health_insurance\\src\\features\\annual_premium_scaler.pkl', 'wb'))"
   ]
  },
  {
   "cell_type": "markdown",
   "id": "dcaaa69a-8126-455d-9adb-a693630938b1",
   "metadata": {},
   "source": [
    "Although we don't know the context of the outliers for annual premium`annual_premium` , i'll assume that the high values in `annual_premium` are useless outliers and treat the variable with standardization given its shape without the outliers. I'll do this way for convenience, taking the risk, to save time.\n",
    "\n",
    "If an adjustment is needed, we will do so in the second round of CRISP-DM."
   ]
  },
  {
   "cell_type": "markdown",
   "id": "167f44dc-b2f9-4d74-8c52-59ce3af77f02",
   "metadata": {},
   "source": [
    "## 5.2. Rescaling"
   ]
  },
  {
   "cell_type": "code",
   "execution_count": 50,
   "id": "c11c2054-4fe2-4d2b-afca-61c48358a4bb",
   "metadata": {},
   "outputs": [],
   "source": [
    "# age\n",
    "mms_age = pp.MinMaxScaler()\n",
    "df5['age'] = mms_age.fit_transform(df5[['age']].values)\n",
    "\n",
    "# vintage\n",
    "mms_vintage = pp.MinMaxScaler()\n",
    "df5['vintage'] = mms_vintage.fit_transform(df5[['vintage']].values)\n",
    "\n",
    "# save to binary\n",
    "pickle.dump(mms_age, open(r'C:\\Users\\psvin\\Documents\\repos\\portfolio-DS\\health_insurance\\src\\features\\age_scaler.pkl', 'wb'))\n",
    "pickle.dump(mms_vintage, open(r'C:\\Users\\psvin\\Documents\\repos\\portfolio-DS\\health_insurance\\src\\features\\vintage_scaler.pkl', 'wb'))"
   ]
  },
  {
   "cell_type": "markdown",
   "id": "70ea4702-0a49-487f-8dd1-88bfe3ba233a",
   "metadata": {},
   "source": [
    "## 5.3. Encoder"
   ]
  },
  {
   "cell_type": "code",
   "execution_count": 51,
   "id": "8546c3bf-b49c-41fc-bcc3-5e4f7825cdce",
   "metadata": {},
   "outputs": [],
   "source": [
    "# gender\n",
    "te_gender = df5.groupby('gender')['response'].mean()\n",
    "df5.loc[:, 'gender'] = df5['gender'].map(te_gender)\n",
    "\n",
    "# region_code - Target Encoding\n",
    "te_region_code = df5.groupby('region_code')['response'].mean()\n",
    "df5.loc[:, 'region_code'] = df5['region_code'].map(te_region_code)\n",
    "\n",
    "# vehicle_age - One Hot Encoding \n",
    "df5 = pd.get_dummies(df5, prefix='vehicle_age', columns=['vehicle_age'])\n",
    "\n",
    "# policy_sales_channel - Frequency Encoding  \n",
    "fe_policy_sales_channel = df5.groupby('policy_sales_channel').size() / len(df5)\n",
    "df5.loc[:, 'policy_sales_channel'] = df5['policy_sales_channel'].map(fe_policy_sales_channel)\n",
    "\n",
    "# save to binary\n",
    "pickle.dump(te_gender, open(r'C:\\Users\\psvin\\Documents\\repos\\portfolio-DS\\health_insurance\\src\\features\\te_gender_scaler.pkl', 'wb'))\n",
    "pickle.dump(te_region_code, open(r'C:\\Users\\psvin\\Documents\\repos\\portfolio-DS\\health_insurance\\src\\features\\te_region_code_scaler.pkl', 'wb'))\n",
    "pickle.dump(fe_policy_sales_channel, open(r'C:\\Users\\psvin\\Documents\\repos\\portfolio-DS\\health_insurance\\src\\features\\fe_policy_sales_channel_scaler.pkl', 'wb'))"
   ]
  },
  {
   "cell_type": "code",
   "execution_count": 52,
   "id": "37021132-4e8b-4911-8b58-89690a654c19",
   "metadata": {},
   "outputs": [
    {
     "data": {
      "text/html": [
       "<div>\n",
       "<style scoped>\n",
       "    .dataframe tbody tr th:only-of-type {\n",
       "        vertical-align: middle;\n",
       "    }\n",
       "\n",
       "    .dataframe tbody tr th {\n",
       "        vertical-align: top;\n",
       "    }\n",
       "\n",
       "    .dataframe thead th {\n",
       "        text-align: right;\n",
       "    }\n",
       "</style>\n",
       "<table border=\"1\" class=\"dataframe\">\n",
       "  <thead>\n",
       "    <tr style=\"text-align: right;\">\n",
       "      <th></th>\n",
       "      <th>id</th>\n",
       "      <th>gender</th>\n",
       "      <th>age</th>\n",
       "      <th>region_code</th>\n",
       "      <th>policy_sales_channel</th>\n",
       "      <th>driving_license</th>\n",
       "      <th>vehicle_damage</th>\n",
       "      <th>previously_insured</th>\n",
       "      <th>annual_premium</th>\n",
       "      <th>vintage</th>\n",
       "      <th>response</th>\n",
       "      <th>vehicle_age_below_1_year</th>\n",
       "      <th>vehicle_age_between_1_2_years</th>\n",
       "      <th>vehicle_age_over_2_years</th>\n",
       "    </tr>\n",
       "  </thead>\n",
       "  <tbody>\n",
       "    <tr>\n",
       "      <th>153329</th>\n",
       "      <td>82460</td>\n",
       "      <td>0.137274</td>\n",
       "      <td>0.538462</td>\n",
       "      <td>0.067967</td>\n",
       "      <td>0.353583</td>\n",
       "      <td>1</td>\n",
       "      <td>0</td>\n",
       "      <td>1</td>\n",
       "      <td>-1.620012</td>\n",
       "      <td>0.086505</td>\n",
       "      <td>0</td>\n",
       "      <td>0</td>\n",
       "      <td>1</td>\n",
       "      <td>0</td>\n",
       "    </tr>\n",
       "    <tr>\n",
       "      <th>306512</th>\n",
       "      <td>162795</td>\n",
       "      <td>0.137274</td>\n",
       "      <td>0.323077</td>\n",
       "      <td>0.185989</td>\n",
       "      <td>0.194406</td>\n",
       "      <td>1</td>\n",
       "      <td>1</td>\n",
       "      <td>0</td>\n",
       "      <td>0.340798</td>\n",
       "      <td>0.906574</td>\n",
       "      <td>0</td>\n",
       "      <td>0</td>\n",
       "      <td>0</td>\n",
       "      <td>1</td>\n",
       "    </tr>\n",
       "    <tr>\n",
       "      <th>227727</th>\n",
       "      <td>294195</td>\n",
       "      <td>0.137274</td>\n",
       "      <td>0.353846</td>\n",
       "      <td>0.078202</td>\n",
       "      <td>0.194406</td>\n",
       "      <td>1</td>\n",
       "      <td>1</td>\n",
       "      <td>0</td>\n",
       "      <td>1.241747</td>\n",
       "      <td>0.439446</td>\n",
       "      <td>0</td>\n",
       "      <td>0</td>\n",
       "      <td>1</td>\n",
       "      <td>0</td>\n",
       "    </tr>\n",
       "    <tr>\n",
       "      <th>288790</th>\n",
       "      <td>20812</td>\n",
       "      <td>0.103905</td>\n",
       "      <td>0.046154</td>\n",
       "      <td>0.185989</td>\n",
       "      <td>0.353583</td>\n",
       "      <td>1</td>\n",
       "      <td>1</td>\n",
       "      <td>0</td>\n",
       "      <td>-0.006653</td>\n",
       "      <td>0.844291</td>\n",
       "      <td>0</td>\n",
       "      <td>1</td>\n",
       "      <td>0</td>\n",
       "      <td>0</td>\n",
       "    </tr>\n",
       "    <tr>\n",
       "      <th>338946</th>\n",
       "      <td>43087</td>\n",
       "      <td>0.137274</td>\n",
       "      <td>0.046154</td>\n",
       "      <td>0.097178</td>\n",
       "      <td>0.353583</td>\n",
       "      <td>1</td>\n",
       "      <td>0</td>\n",
       "      <td>1</td>\n",
       "      <td>-1.620012</td>\n",
       "      <td>0.847751</td>\n",
       "      <td>0</td>\n",
       "      <td>1</td>\n",
       "      <td>0</td>\n",
       "      <td>0</td>\n",
       "    </tr>\n",
       "  </tbody>\n",
       "</table>\n",
       "</div>"
      ],
      "text/plain": [
       "            id    gender       age  region_code  policy_sales_channel  \\\n",
       "153329   82460  0.137274  0.538462     0.067967              0.353583   \n",
       "306512  162795  0.137274  0.323077     0.185989              0.194406   \n",
       "227727  294195  0.137274  0.353846     0.078202              0.194406   \n",
       "288790   20812  0.103905  0.046154     0.185989              0.353583   \n",
       "338946   43087  0.137274  0.046154     0.097178              0.353583   \n",
       "\n",
       "        driving_license  vehicle_damage  previously_insured  annual_premium  \\\n",
       "153329                1               0                   1       -1.620012   \n",
       "306512                1               1                   0        0.340798   \n",
       "227727                1               1                   0        1.241747   \n",
       "288790                1               1                   0       -0.006653   \n",
       "338946                1               0                   1       -1.620012   \n",
       "\n",
       "         vintage  response  vehicle_age_below_1_year  \\\n",
       "153329  0.086505         0                         0   \n",
       "306512  0.906574         0                         0   \n",
       "227727  0.439446         0                         0   \n",
       "288790  0.844291         0                         1   \n",
       "338946  0.847751         0                         1   \n",
       "\n",
       "        vehicle_age_between_1_2_years  vehicle_age_over_2_years  \n",
       "153329                              1                         0  \n",
       "306512                              0                         1  \n",
       "227727                              1                         0  \n",
       "288790                              0                         0  \n",
       "338946                              0                         0  "
      ]
     },
     "execution_count": 52,
     "metadata": {},
     "output_type": "execute_result"
    }
   ],
   "source": [
    "# checking data \n",
    "df5.head()"
   ]
  },
  {
   "cell_type": "markdown",
   "id": "de6543dd-57e2-4c08-883c-d339dd01f0f5",
   "metadata": {},
   "source": [
    "## 5.4. Validation Preparation"
   ]
  },
  {
   "cell_type": "code",
   "execution_count": 53,
   "id": "5d905c0c-28cd-4319-b47e-016f16b37856",
   "metadata": {},
   "outputs": [],
   "source": [
    "# gender\n",
    "x_validation.loc[:, 'gender'] = x_validation.loc[:, 'gender'].map(te_gender)\n",
    "\n",
    "# age\n",
    "x_validation.loc[:, 'age'] = mms_age.fit_transform(x_validation[['age']].values)\n",
    "\n",
    "# region_code\n",
    "x_validation.loc[:, 'region_code'] = x_validation.loc[:, 'region_code'].map(te_region_code)\n",
    "\n",
    "# vehicle_age\n",
    "x_validation = pd.get_dummies(x_validation, prefix='vehicle_age', columns=['vehicle_age'])\n",
    "\n",
    "# annual_premium\n",
    "x_validation.loc[:, 'annual_premium'] = ss.fit_transform(x_validation[['annual_premium']].values)\n",
    "\n",
    "# policy_sales_channel\n",
    "x_validation.loc[:, 'policy_sales_channel'] = x_validation['policy_sales_channel'].map(fe_policy_sales_channel)\n",
    "\n",
    "# vintage\n",
    "x_validation.loc[:, 'vintage'] = mms_vintage.fit_transform(x_validation[['vintage']].values)\n",
    "\n",
    "# fillna\n",
    "x_validation = x_validation.fillna(0) # check this later"
   ]
  },
  {
   "cell_type": "markdown",
   "id": "980275b1-1304-41af-ac8a-58623d6ff95a",
   "metadata": {},
   "source": [
    "# 6.0. Feature Selection"
   ]
  },
  {
   "cell_type": "markdown",
   "id": "3ccc19af-6374-4982-9512-bb7bcadd3228",
   "metadata": {},
   "source": [
    "## 6.1. Features Importance"
   ]
  },
  {
   "cell_type": "markdown",
   "id": "b543551a-fd4b-4057-bc25-d87708e239ce",
   "metadata": {},
   "source": [
    "In this step, I will apply an Extra Trees method for feature selection. Extra trees have good processing speed and low bias, being an interesting algorithm in the selection of features in this first stage of CRISP, where we want to quickly generate value for the business team."
   ]
  },
  {
   "cell_type": "code",
   "execution_count": 54,
   "id": "5963f23d-23c7-4e5d-a0a0-45e04868681b",
   "metadata": {},
   "outputs": [
    {
     "data": {
      "text/plain": [
       "ExtraTreesClassifier(n_estimators=250, n_jobs=1, random_state=0)"
      ]
     },
     "execution_count": 54,
     "metadata": {},
     "output_type": "execute_result"
    }
   ],
   "source": [
    "# Model definition\n",
    "forest = en.ExtraTreesClassifier(n_estimators=250, random_state=0, n_jobs=1)\n",
    "\n",
    "# Data preparation\n",
    "x_train_n = df5.drop(['id', 'response'], axis=1)\n",
    "y_train_n = y_train.values\n",
    "\n",
    "# Model fit\n",
    "forest.fit(x_train_n, y_train_n)"
   ]
  },
  {
   "cell_type": "code",
   "execution_count": 55,
   "id": "06d5d63d-4079-439a-a2c1-0a902903fd2a",
   "metadata": {},
   "outputs": [
    {
     "name": "stdout",
     "output_type": "stream",
     "text": [
      "Feature Ranking:\n",
      "                         feature  importance\n",
      "0                        vintage    0.272441\n",
      "0                 annual_premium    0.244098\n",
      "0                            age    0.166662\n",
      "0                    region_code    0.105348\n",
      "0                 vehicle_damage    0.066403\n",
      "0           policy_sales_channel    0.059223\n",
      "0             previously_insured    0.057404\n",
      "0       vehicle_age_below_1_year    0.014684\n",
      "0  vehicle_age_between_1_2_years    0.006399\n",
      "0                         gender    0.004752\n",
      "0       vehicle_age_over_2_years    0.002103\n",
      "0                driving_license    0.000484\n"
     ]
    },
    {
     "data": {
      "image/png": "[encoded data removed]",
      "text/plain": [
       "<Figure size 432x288 with 1 Axes>"
      ]
     },
     "metadata": {
      "needs_background": "light"
     },
     "output_type": "display_data"
    }
   ],
   "source": [
    "importances = forest.feature_importances_\n",
    "std = np.std([tree.feature_importances_ for tree in forest.estimators_], axis=0)\n",
    "indices = np.argsort(importances)[::-1]\n",
    "\n",
    "# Print the feature ranking\n",
    "print('Feature Ranking:')\n",
    "df = pd.DataFrame()\n",
    "for i,j in zip(x_train_n, forest.feature_importances_):\n",
    "    aux = pd.DataFrame({'feature': i, 'importance': j}, index=[0])\n",
    "    df = pd.concat([df, aux], axis=0)\n",
    "    \n",
    "print(df.sort_values('importance', ascending=False))\n",
    "      \n",
    "# Plot the impurity-based feature importance of the forest\n",
    "\n",
    "plt.figure()\n",
    "plt.title('Feature Importance') \n",
    "plt.bar(range(x_train_n.shape[1]), importances[indices], color='r', yerr=std[indices], align='center')\n",
    "plt.xticks(range(x_train_n.shape[1]), indices)\n",
    "plt.xlim([-1, x_train_n.shape[1]])\n",
    "plt.show()\n"
   ]
  },
  {
   "cell_type": "markdown",
   "id": "5c68aa10-8e06-4f9a-8baa-fc93d8b9999e",
   "metadata": {},
   "source": [
    "I'm going to choose an arbitrary 5% cutoff rate for the importance of variables. Let's see how the model performs and if necessary, we will make adjustments to this rate in another round."
   ]
  },
  {
   "cell_type": "markdown",
   "id": "ce86f186-fc23-4081-93c6-e18fd13476db",
   "metadata": {},
   "source": [
    "# 7.0. Machine Learning Model"
   ]
  },
  {
   "cell_type": "markdown",
   "id": "7d0503f2-d6ea-47fa-aced-920e72b2be95",
   "metadata": {},
   "source": [
    "In this step, I'm interested in finding the optimal ordering of interested clients. For this, we must find the model that best reaches interested customers, with the smallest sample of customers ordered by propensity to buy."
   ]
  },
  {
   "cell_type": "code",
   "execution_count": 56,
   "id": "49d2236a-646a-4b41-a4f5-6f748ebd41dc",
   "metadata": {},
   "outputs": [],
   "source": [
    "cols_selected = ['annual_premium', 'vintage', 'age', 'region_code', 'vehicle_damage', 'previously_insured', 'policy_sales_channel']\n",
    "\n",
    "x_train = df5[cols_selected]\n",
    "x_val = x_validation[cols_selected]\n",
    "y_val = y_validation.copy()"
   ]
  },
  {
   "cell_type": "markdown",
   "id": "d68be61e-e80e-4e70-89f1-10d48f4d3b26",
   "metadata": {},
   "source": [
    "## 7.1. KNN"
   ]
  },
  {
   "cell_type": "code",
   "execution_count": 57,
   "id": "1870586a-6ddc-4511-89dd-6100a9c5b761",
   "metadata": {},
   "outputs": [],
   "source": [
    "# model definition\n",
    "knn_model = nh.KNeighborsClassifier(n_neighbors=2)\n",
    "\n",
    "# model training\n",
    "knn_model.fit(x_train, y_train)\n",
    "\n",
    "# model_prediction\n",
    "yhat_knn = knn_model.predict_proba(x_val)"
   ]
  },
  {
   "cell_type": "code",
   "execution_count": 58,
   "id": "39716609-a0d3-4c5b-901a-751c493bea73",
   "metadata": {},
   "outputs": [
    {
     "data": {
      "image/png": "[encoded data removed]",
      "text/plain": [
       "<Figure size 432x288 with 1 Axes>"
      ]
     },
     "metadata": {
      "needs_background": "light"
     },
     "output_type": "display_data"
    }
   ],
   "source": [
    "# Cumulative Gain\n",
    "skplt.metrics.plot_cumulative_gain(y_val, yhat_knn);"
   ]
  },
  {
   "cell_type": "code",
   "execution_count": 59,
   "id": "8244e230-1668-411e-8317-aa7716294c71",
   "metadata": {},
   "outputs": [
    {
     "data": {
      "image/png": "[encoded data removed]",
      "text/plain": [
       "<Figure size 432x288 with 1 Axes>"
      ]
     },
     "metadata": {
      "needs_background": "light"
     },
     "output_type": "display_data"
    }
   ],
   "source": [
    "# Lift Curve\n",
    "skplt.metrics.plot_lift_curve(y_val, yhat_knn);"
   ]
  },
  {
   "cell_type": "markdown",
   "id": "91cb848e-5b18-47d0-8265-64e4f18bb665",
   "metadata": {},
   "source": [
    "## 7.2. Logistic Regression"
   ]
  },
  {
   "cell_type": "code",
   "execution_count": 60,
   "id": "4986f541-5272-47d4-8713-38dc443ce488",
   "metadata": {},
   "outputs": [],
   "source": [
    "# model definition\n",
    "lr_model = lm.LogisticRegression(random_state=42)\n",
    "\n",
    "# model training\n",
    "lr_model.fit(x_train, y_train)\n",
    "\n",
    "# model_prediction\n",
    "yhat_lr = lr_model.predict_proba(x_val)"
   ]
  },
  {
   "cell_type": "code",
   "execution_count": 61,
   "id": "d0ff24f1-c7a8-4a01-9466-87720e7a0f73",
   "metadata": {},
   "outputs": [
    {
     "data": {
      "image/png": "[encoded data removed]",
      "text/plain": [
       "<Figure size 432x288 with 1 Axes>"
      ]
     },
     "metadata": {
      "needs_background": "light"
     },
     "output_type": "display_data"
    }
   ],
   "source": [
    "# Cumulative Gain\n",
    "skplt.metrics.plot_cumulative_gain(y_val, yhat_lr);"
   ]
  },
  {
   "cell_type": "markdown",
   "id": "bc8d5aa6-ff56-4bbd-9ebe-88ab47fd9c54",
   "metadata": {},
   "source": [
    "Compared to `KNN`, `Logistic Regression` achieves almost 100% of interested customers, reaching approximately 50% of the ordered customer database (`KNN` needs 100% of sample)."
   ]
  },
  {
   "cell_type": "code",
   "execution_count": 62,
   "id": "bea313bb-992c-443d-ab3f-bf651adc3681",
   "metadata": {},
   "outputs": [
    {
     "data": {
      "image/png": "[encoded data removed]",
      "text/plain": [
       "<Figure size 432x288 with 1 Axes>"
      ]
     },
     "metadata": {
      "needs_background": "light"
     },
     "output_type": "display_data"
    }
   ],
   "source": [
    "# Lift Curve\n",
    "skplt.metrics.plot_lift_curve(y_val, yhat_lr);"
   ]
  },
  {
   "cell_type": "markdown",
   "id": "1f2ddc2f-3bbe-4171-af50-74965417384b",
   "metadata": {},
   "source": [
    "## 7.3. Extra Trees"
   ]
  },
  {
   "cell_type": "code",
   "execution_count": 63,
   "id": "ddc7173d-86d0-410d-8dcf-4f3e84393389",
   "metadata": {},
   "outputs": [],
   "source": [
    "# model definition\n",
    "et = en.ExtraTreesClassifier(n_estimators=1000, random_state=0, n_jobs=1)\n",
    "\n",
    "# model training\n",
    "et.fit(x_train, y_train)\n",
    "\n",
    "# model prediction\n",
    "yhat_et =  et.predict_proba(x_val)"
   ]
  },
  {
   "cell_type": "code",
   "execution_count": 64,
   "id": "c04f6660-bd9a-4232-9772-78b6f2f0eabd",
   "metadata": {
    "jupyter": {
     "source_hidden": true
    },
    "tags": []
   },
   "outputs": [
    {
     "data": {
      "image/png": "[encoded data removed]",
      "text/plain": [
       "<Figure size 432x288 with 1 Axes>"
      ]
     },
     "metadata": {
      "needs_background": "light"
     },
     "output_type": "display_data"
    }
   ],
   "source": [
    "# Cumulative Gain\n",
    "skplt.metrics.plot_cumulative_gain(y_val, yhat_et);"
   ]
  },
  {
   "cell_type": "markdown",
   "id": "98749530-308f-412d-8e5f-e1861c6e48b4",
   "metadata": {},
   "source": [
    "`Extra Trees` appears to have a marginal difference compared to `Logistic Regression` in terms of cumulative gains."
   ]
  },
  {
   "cell_type": "code",
   "execution_count": 65,
   "id": "825669ce-594d-473e-a7c1-3457a2d93e9f",
   "metadata": {},
   "outputs": [
    {
     "data": {
      "image/png": "[encoded data removed]",
      "text/plain": [
       "<Figure size 432x288 with 1 Axes>"
      ]
     },
     "metadata": {
      "needs_background": "light"
     },
     "output_type": "display_data"
    }
   ],
   "source": [
    "# Lift Curve\n",
    "skplt.metrics.plot_lift_curve(y_val, yhat_et);"
   ]
  },
  {
   "cell_type": "markdown",
   "id": "ac36a0b8-a523-4a40-99af-5f0c9b00386e",
   "metadata": {},
   "source": [
    "## 7.4. Random Forest"
   ]
  },
  {
   "cell_type": "code",
   "execution_count": 66,
   "id": "be847032-e778-4430-ac05-d3a1c3a3ef9f",
   "metadata": {},
   "outputs": [],
   "source": [
    "# model definition\n",
    "rf = en.RandomForestClassifier(n_estimators=1000, random_state=42, n_jobs=-1)\n",
    "\n",
    "# model training\n",
    "rf.fit(x_train, y_train)\n",
    "\n",
    "# model_prediction\n",
    "yhat_rf = rf.predict_proba(x_val)"
   ]
  },
  {
   "cell_type": "code",
   "execution_count": 67,
   "id": "60a1d1ae-eccc-47c9-b33b-4091f90f21df",
   "metadata": {},
   "outputs": [
    {
     "data": {
      "image/png": "[encoded data removed]",
      "text/plain": [
       "<Figure size 432x288 with 1 Axes>"
      ]
     },
     "metadata": {
      "needs_background": "light"
     },
     "output_type": "display_data"
    }
   ],
   "source": [
    "# Cumulative Gain\n",
    "skplt.metrics.plot_cumulative_gain(y_val, yhat_lr);"
   ]
  },
  {
   "cell_type": "code",
   "execution_count": 68,
   "id": "62fce3b4-83a1-4a68-b71f-c2dad2a02e82",
   "metadata": {},
   "outputs": [
    {
     "data": {
      "image/png": "[encoded data removed]",
      "text/plain": [
       "<Figure size 432x288 with 1 Axes>"
      ]
     },
     "metadata": {
      "needs_background": "light"
     },
     "output_type": "display_data"
    }
   ],
   "source": [
    "# Lift Curve\n",
    "skplt.metrics.plot_lift_curve(y_val, yhat_lr);"
   ]
  },
  {
   "cell_type": "markdown",
   "id": "b5b46de9-659b-4ab6-bcf8-a7ae4930a79d",
   "metadata": {},
   "source": [
    "# 8.0. Model Performance"
   ]
  },
  {
   "cell_type": "code",
   "execution_count": 69,
   "id": "5d0f2744-3f7b-4e31-8128-369abe1326ce",
   "metadata": {},
   "outputs": [],
   "source": [
    "# precision at kth customer \n",
    "def precision_at_k(data, k=2000):\n",
    "    # reset index\n",
    "    data = data.reset_index(drop=True)\n",
    "\n",
    "    # create ranking order\n",
    "    # add 1 to start from the first at k\n",
    "    data['ranking'] = data.index + 1\n",
    "\n",
    "    # precision at k\n",
    "    data['precision_at_k'] = data['response'].cumsum() / data['ranking']\n",
    "    \n",
    "    return data.loc[k, 'precision_at_k']"
   ]
  },
  {
   "cell_type": "code",
   "execution_count": 70,
   "id": "a155a776-6ef5-42f5-85b9-862d38eb60d5",
   "metadata": {},
   "outputs": [],
   "source": [
    "# recall at kth customer \n",
    "def recall_at_k(data, k=2000):\n",
    "    # reset index\n",
    "    data = data.reset_index(drop=True)\n",
    "\n",
    "    # create ranking order\n",
    "    # add 1 to start from the first at k\n",
    "    data['ranking'] = data.index + 1\n",
    "\n",
    "    # precision at k\n",
    "    data['recall_at_k'] = data['response'].cumsum() / data['response'].sum()\n",
    "    \n",
    "    return data.loc[k, 'recall_at_k']"
   ]
  },
  {
   "cell_type": "code",
   "execution_count": 71,
   "id": "9c6a3c39-af3a-489e-9653-f356f3dc367b",
   "metadata": {},
   "outputs": [],
   "source": [
    "# copy data\n",
    "df8 = x_validation.copy()\n",
    "df8['response'] = y_validation.copy()"
   ]
  },
  {
   "cell_type": "code",
   "execution_count": 72,
   "id": "f4a5a339-086d-4a9e-8caf-280970b675c6",
   "metadata": {},
   "outputs": [],
   "source": [
    "# propensity score\n",
    "df8['score'] = yhat_knn[:, 1].tolist()\n",
    "\n",
    "# sort clients by propensity score\n",
    "df8 = df8.sort_values('score', ascending=False)\n",
    "\n",
    "# compute precision at k\n",
    "precision_at_50 = precision_at_k(df8, k=50)\n",
    "\n",
    "# compute recall at k\n",
    "recall_at_50 = recall_at_k(df8, k=50)"
   ]
  },
  {
   "cell_type": "code",
   "execution_count": 73,
   "id": "793bcf9b-0eee-48dc-8480-43cbe5c0a1db",
   "metadata": {},
   "outputs": [
    {
     "name": "stdout",
     "output_type": "stream",
     "text": [
      "Precision at k: 0.27450980392156865\n",
      "Recall at k: 0.0014690451206715634\n"
     ]
    }
   ],
   "source": [
    "print('Precision at k: {p}\\nRecall at k: {r}'.format(p = precision_at_50, r=recall_at_50))"
   ]
  },
  {
   "cell_type": "markdown",
   "id": "4ab9b466-d2d8-4c73-9d7e-05a97a9e8a97",
   "metadata": {},
   "source": [
    "# 9.0. Deploy To Production"
   ]
  },
  {
   "cell_type": "markdown",
   "id": "02c8b3d0-d0d2-4dee-ac3a-ca1fe8556947",
   "metadata": {},
   "source": [
    "## 9.1. Health Insurance Class"
   ]
  },
  {
   "cell_type": "code",
   "execution_count": 74,
   "id": "ed0d6c8d-76ae-40ef-b4ce-45b306e8e8b9",
   "metadata": {},
   "outputs": [],
   "source": [
    "# Save trained model\n",
    "pickle.dump(lr_model, open(r'C:\\Users\\psvin\\Documents\\repos\\portfolio-DS\\health_insurance\\src\\models\\lr_model.pkl', 'wb'))"
   ]
  },
  {
   "cell_type": "code",
   "execution_count": 75,
   "id": "532339e5-47f0-40b3-bbdd-58504897b25f",
   "metadata": {},
   "outputs": [],
   "source": [
    "# Create class and objects\n",
    "class HealthInsurance:\n",
    "    \n",
    "    def __init__( self ):\n",
    "        self.home_path = r'C:\\Users\\psvin\\Documents\\repos\\portfolio-DS\\health_insurance'\n",
    "        self.annual_premium_scaler =            pickle.load(open(self.home_path + '\\src\\features\\annual_premium_scaler.pkl'))\n",
    "        self.age_scaler =                       pickle.load(open(self.home_path + '\\src\\features\\age_scaler.pkl')) \n",
    "        self.vintage_scaler =                   pickle.load(open(self.home_path + '\\src\\features\\vintage_scaler.pkl')) \n",
    "        self.target_encode_gender_scaler =      pickle.load(open(self.home_path + '\\src\\features\\te_gender_scaler.pkl'))\n",
    "        self.target_encode_region_code_scaler = pickle.load(open(self.home_path + '\\src\\features\\te_region_code_scaler.pkl'))\n",
    "        self.fe_policy_sales_channel_scaler =   pickle.load(open(self.home_path + '\\src\\features\\fe_policy_sales_channel_scaler.pkl'))\n",
    "        \n",
    "    def data_cleaning( self, df1 ):\n",
    "        # 1.1. Rename Columns\n",
    "        cols_new = ['id', 'gender', 'age', 'driving_license', 'region_code', 'previously_insured', 'vehicle_age', \n",
    "                    'vehicle_damage', 'annual_premium', 'policy_sales_channel', 'vintage', 'response']\n",
    "\n",
    "        # rename \n",
    "        df1.columns = cols_new\n",
    "        \n",
    "        return df1 \n",
    "\n",
    "    \n",
    "    def feature_engineering( self, df2 ):\n",
    "        # 2.0. Feature Engineering\n",
    "\n",
    "        # Vehicle Damage Number\n",
    "        df2['vehicle_damage'] = df2['vehicle_damage'].apply( lambda x: 1 if x == 'Yes' else 0 )\n",
    "\n",
    "        # Vehicle Age\n",
    "        df2['vehicle_age'] =  df2['vehicle_age'].apply( lambda x: 'over_2_years' if x == '> 2 Years' else 'between_1_2_year' if x == '1-2 Year' else 'below_1_year' )\n",
    "        \n",
    "        return df2\n",
    "    \n",
    "    \n",
    "    def data_preparation( self, df5 ):\n",
    "        # anual premium - StandarScaler\n",
    "        df5['annual_premium'] = self.annual_premium_scaler.transform( df5[['annual_premium']].values )\n",
    "\n",
    "        # Age - MinMaxScaler\n",
    "        df5['age'] = self.age_scaler.transform( df5[['age']].values )\n",
    "\n",
    "        # Vintage - MinMaxScaler\n",
    "        df5['vintage'] = self.vintage_scaler.transform( df5[['vintage']].values )\n",
    "\n",
    "        # gender - One Hot Encoding / Target Encoding\n",
    "        df5.loc[:, 'gender'] = df5['gender'].map( self.target_encode_gender_scaler )\n",
    "\n",
    "        # region_code - Target Encoding / Frequency Encoding\n",
    "        df5.loc[:, 'region_code'] = df5['region_code'].map( self.target_encode_region_code_scaler )\n",
    "\n",
    "        # vehicle_age - One Hot Encoding / Frequency Encoding\n",
    "        df5 = pd.get_dummies( df5, prefix='vehicle_age', columns=['vehicle_age'] )\n",
    "\n",
    "        # policy_sales_channel - Target Encoding / Frequency Encoding\n",
    "        df5.loc[:, 'policy_sales_channel'] = df5['policy_sales_channel'].map( self.fe_policy_sales_channel_scaler )\n",
    "        \n",
    "        # Feature Selection\n",
    "        cols_selected = ['annual_premium', 'vintage', 'age', 'region_code', 'vehicle_damage', 'previously_insured',\n",
    "                         'policy_sales_channel']\n",
    "        \n",
    "        return df5[ cols_selected ]\n",
    "    \n",
    "    \n",
    "    def get_prediction( self, model, original_data, test_data ):\n",
    "        # model prediction\n",
    "        pred = model.predict_proba( test_data )\n",
    "        \n",
    "        # join prediction into original data\n",
    "        original_data['prediction'] = pred\n",
    "        \n",
    "        return original_data.to_json( orient='records', date_format='iso' )"
   ]
  },
  {
   "cell_type": "markdown",
   "id": "47cca129-96f5-4fe2-bbc0-47201766736f",
   "metadata": {},
   "source": [
    "## 9.2. API Handler"
   ]
  },
  {
   "cell_type": "code",
   "execution_count": 112,
   "id": "eb21a2e7-0c16-4bdd-8d94-8c5c4f1745c5",
   "metadata": {},
   "outputs": [
    {
     "name": "stdout",
     "output_type": "stream",
     "text": [
      "\u001b[31m\u001b[1mWARNING: This is a development server. Do not use it in a production deployment. Use a production WSGI server instead.\u001b[0m\n",
      " * Serving Flask app '__main__'\n",
      " * Debug mode: on\n"
     ]
    },
    {
     "name": "stderr",
     "output_type": "stream",
     "text": [
      " * Running on all addresses (0.0.0.0)\n",
      "   WARNING: This is a development server. Do not use it in a production deployment.\n",
      " * Running on http://127.0.0.1:5000\n",
      " * Running on http://192.168.0.107:5000 (Press CTRL+C to quit)\n"
     ]
    }
   ],
   "source": [
    "# loading model\n",
    "path = r'C:\\Users\\psvin\\Documents\\repos\\portfolio-DS\\health_insurance'\n",
    "model = pickle.load( open( path + '\\src\\models\\lr_model.pkl', 'rb' ) )\n",
    "\n",
    "# initialize API\n",
    "app = Flask( __name__ )\n",
    "\n",
    "@app.route( '/heathinsurance/predict', methods=['POST'] )\n",
    "\n",
    "def health_insurance_predict():\n",
    "    test_json = request.get_json()\n",
    "    \n",
    "    if test_json: # there is data\n",
    "        if isinstance( test_json, dict ): # unique example\n",
    "            test_raw = pd.DataFrame( test_json, index=[0] )\n",
    "            \n",
    "        else: # multiple examples\n",
    "            test_raw = pd.DataFrame( test_json, columns=test_json[0].keys() )\n",
    "            \n",
    "        # Instantiate Rossmann class\n",
    "        pipeline = HealthInsurance()\n",
    "        \n",
    "        # data cleaning\n",
    "        df1 = pipeline.data_cleaning( test_raw )\n",
    "        \n",
    "        # feature engineering\n",
    "        df2 = pipeline.feature_engineering( df1 )\n",
    "        \n",
    "        # data preparation\n",
    "        df3 = pipeline.data_preparation( df2 )\n",
    "        \n",
    "        # prediction\n",
    "        df_response = pipeline.get_prediction( model, test_raw, df3 )\n",
    "        \n",
    "        return df_response\n",
    "    \n",
    "    else:\n",
    "        return Response( '{}', status=200, mimetype='application/json' )\n",
    "    \n",
    "if __name__ == '__main__':\n",
    "    app.run( '0.0.0.0', debug=True, use_reloader=False )  "
   ]
  },
  {
   "cell_type": "markdown",
   "id": "0b27e921-771c-4f43-900d-80fd831d9f59",
   "metadata": {},
   "source": [
    "## 9.3. API Tester"
   ]
  },
  {
   "cell_type": "code",
   "execution_count": 80,
   "id": "19e8ecd1-0cf2-4d7d-a4ca-299bb2e9b812",
   "metadata": {},
   "outputs": [],
   "source": [
    "# loading test dataset\n",
    "df_test = x_validation\n",
    "df_test['response'] = y_validation  \n",
    "df_test = df_test.sample(10)   \n",
    "\n",
    "# convert dataframe to json\n",
    "data = json.dumps( df_test.to_dict( orient='records' ) )"
   ]
  },
  {
   "cell_type": "code",
   "execution_count": 82,
   "id": "97690222-d82d-4870-8c93-82edeead515b",
   "metadata": {},
   "outputs": [
    {
     "name": "stdout",
     "output_type": "stream",
     "text": [
      "Status Code 500\n"
     ]
    }
   ],
   "source": [
    "# API Call\n",
    "url = 'http://127.0.0.1:5000/heathinsurance/predict'\n",
    "#url = 'https://health-insurance-model-app.herokuapp.com/predict'\n",
    "header = {'Content-type': 'application/json' }\n",
    "\n",
    "r = requests.post( url, data=data, headers=header )\n",
    "print( 'Status Code {}'.format( r.status_code ) )"
   ]
  },
  {
   "cell_type": "code",
   "execution_count": null,
   "id": "19f3e436-72ea-4fff-98e6-f405f405c9de",
   "metadata": {},
   "outputs": [],
   "source": [
    "d1 = pd.DataFrame( r.json(), columns=r.json()[0].keys() )\n",
    "d1.sort_values( 'score', ascending=False ).head()"
   ]
  }
 ],
 "metadata": {
  "kernelspec": {
   "display_name": "Python 3 (ipykernel)",
   "language": "python",
   "name": "python3"
  },
  "language_info": {
   "codemirror_mode": {
    "name": "ipython",
    "version": 3
   },
   "file_extension": ".py",
   "mimetype": "text/x-python",
   "name": "python",
   "nbconvert_exporter": "python",
   "pygments_lexer": "ipython3",
   "version": "3.9.4"
  },
  "toc-autonumbering": false,
  "toc-showcode": false,
  "toc-showmarkdowntxt": false
 },
 "nbformat": 4,
 "nbformat_minor": 5
}
